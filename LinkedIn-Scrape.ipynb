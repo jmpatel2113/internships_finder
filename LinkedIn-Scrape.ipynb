{
 "cells": [
  {
   "cell_type": "code",
   "execution_count": 48,
   "id": "86934359",
   "metadata": {},
   "outputs": [],
   "source": [
    "from selenium import webdriver\n",
    "import time\n",
    "import pandas as pd\n",
    "import random\n",
    "from dotenv import load_dotenv\n",
    "import os\n",
    "\n",
    "from selenium.webdriver.support.select import Select\n",
    "from selenium.webdriver.support.ui import WebDriverWait\n",
    "from selenium.webdriver.common.by import By\n",
    "from selenium.webdriver.support import expected_conditions as EC\n",
    "from selenium.webdriver.chrome.service import Service\n",
    "from selenium.common.exceptions import NoSuchElementException, TimeoutException\n",
    "from selenium.webdriver.common.action_chains import ActionChains"
   ]
  },
  {
   "cell_type": "code",
   "execution_count": 49,
   "id": "26df224f",
   "metadata": {},
   "outputs": [],
   "source": [
    "url1 = 'https://www.linkedin.com/jobs/search/?keywords=Software%20Engineer%20Intern&location=United%20States&geoId=103644278&f_TPR=r604800&position=1&pageNum=0'"
   ]
  },
  {
   "cell_type": "code",
   "execution_count": 52,
   "id": "6567f03d",
   "metadata": {},
   "outputs": [],
   "source": [
    "load_dotenv()\n",
    "service = Service(os.getenv(\"CHROMEDRIVER_PATH\"))\n",
    "driver = webdriver.Chrome(service=service)\n",
    "driver.get(url1)\n",
    "driver.implicitly_wait(10)"
   ]
  },
  {
   "cell_type": "code",
   "execution_count": 53,
   "id": "47a34452",
   "metadata": {},
   "outputs": [],
   "source": [
    "actions = ActionChains(driver)\n",
    "actions.move_by_offset(random.randint(1, 5), random.randint(1, 5)).click().perform()"
   ]
  },
  {
   "cell_type": "code",
   "execution_count": 19,
   "id": "07e3cf58",
   "metadata": {},
   "outputs": [],
   "source": [
    "n = driver.find_element(By.CLASS_NAME, \"results-context-header__job-count\").text"
   ]
  },
  {
   "cell_type": "code",
   "execution_count": 20,
   "id": "6bdbf56c",
   "metadata": {},
   "outputs": [
    {
     "data": {
      "text/plain": [
       "'354'"
      ]
     },
     "execution_count": 20,
     "metadata": {},
     "output_type": "execute_result"
    }
   ],
   "source": [
    "n"
   ]
  },
  {
   "cell_type": "code",
   "execution_count": 21,
   "id": "98a0d169",
   "metadata": {},
   "outputs": [
    {
     "data": {
      "text/plain": [
       "354"
      ]
     },
     "execution_count": 21,
     "metadata": {},
     "output_type": "execute_result"
    }
   ],
   "source": [
    "n = pd.to_numeric(n)\n",
    "n"
   ]
  },
  {
   "cell_type": "code",
   "execution_count": null,
   "id": "1a50ad84",
   "metadata": {},
   "outputs": [],
   "source": [
    "i = 1\n",
    "numScroll = (n/25)+1\n",
    "\n",
    "while(i <= numScroll):\n",
    "    driver.execute_script(\"window.scrollTo(0, document.body.scrollHeight);\")\n",
    "    i = i + 1\n",
    "    \n",
    "    try:\n",
    "        see_more_button = WebDriverWait(driver, 5).until(\n",
    "            EC.element_to_be_clickable((By.XPATH, \"//button[@aria-label='See more jobs']\"))\n",
    "        )\n",
    "        see_more_button.click()\n",
    "        time.sleep(random.randint(3, 6))\n",
    "    except:\n",
    "        pass\n",
    "        time.sleep(random.randint(2, 5))"
   ]
  },
  {
   "cell_type": "code",
   "execution_count": 23,
   "id": "80b13710",
   "metadata": {},
   "outputs": [],
   "source": [
    "companyName = []"
   ]
  },
  {
   "cell_type": "code",
   "execution_count": null,
   "id": "4668de96",
   "metadata": {},
   "outputs": [],
   "source": [
    "numJobs = 0\n",
    "\n",
    "for j in range(n):\n",
    "    try:\n",
    "        company = driver.find_elements(By.CLASS_NAME, \"base-search-card__subtitle\")[j].text\n",
    "        numJobs = numJobs+1\n",
    "        companyName.append(company)\n",
    "    \n",
    "    except IndexError:\n",
    "        pass"
   ]
  },
  {
   "cell_type": "code",
   "execution_count": 25,
   "id": "d0c5cfbb",
   "metadata": {},
   "outputs": [
    {
     "data": {
      "text/plain": [
       "193"
      ]
     },
     "execution_count": 25,
     "metadata": {},
     "output_type": "execute_result"
    }
   ],
   "source": [
    "len(companyName)"
   ]
  },
  {
   "cell_type": "code",
   "execution_count": 26,
   "id": "b97ca72c",
   "metadata": {},
   "outputs": [],
   "source": [
    "titleName = []"
   ]
  },
  {
   "cell_type": "code",
   "execution_count": 27,
   "id": "d20cd720",
   "metadata": {},
   "outputs": [],
   "source": [
    "for i in range(numJobs):\n",
    "    try:\n",
    "        title = driver.find_elements(By.CLASS_NAME, \"base-search-card__title\")[i].text\n",
    "        titleName.append(title)\n",
    "    \n",
    "    except IndexError:\n",
    "        pass"
   ]
  },
  {
   "cell_type": "code",
   "execution_count": 28,
   "id": "22ee8e5a",
   "metadata": {},
   "outputs": [
    {
     "data": {
      "text/plain": [
       "193"
      ]
     },
     "execution_count": 28,
     "metadata": {},
     "output_type": "execute_result"
    }
   ],
   "source": [
    "len(titleName)"
   ]
  },
  {
   "cell_type": "code",
   "execution_count": 29,
   "id": "182f14ce",
   "metadata": {},
   "outputs": [],
   "source": [
    "linkList = []"
   ]
  },
  {
   "cell_type": "code",
   "execution_count": 30,
   "id": "6febd1c3",
   "metadata": {},
   "outputs": [],
   "source": [
    "for k in range(n):\n",
    "    try:\n",
    "        link_element = driver.find_elements(By.CLASS_NAME, \"base-card__full-link\")[k].get_attribute('href')\n",
    "        if link_element is not None:\n",
    "            linkList.append(link_element)\n",
    "    except IndexError:\n",
    "        pass"
   ]
  },
  {
   "cell_type": "code",
   "execution_count": null,
   "id": "9b2b5fd5",
   "metadata": {},
   "outputs": [],
   "source": [
    "len(linkList)"
   ]
  },
  {
   "cell_type": "code",
   "execution_count": 32,
   "id": "c3624fee",
   "metadata": {},
   "outputs": [],
   "source": [
    "remainingLinks = []\n",
    "indexList = []\n",
    "\n",
    "for k in range(n):\n",
    "    try:\n",
    "        link_element = driver.find_elements(By.CLASS_NAME, \"base-card--link\")[k].get_attribute('href')\n",
    "        if link_element is not None:\n",
    "            indexList.append(k)\n",
    "            remainingLinks.append(link_element)\n",
    "    except IndexError:\n",
    "        pass"
   ]
  },
  {
   "cell_type": "code",
   "execution_count": 33,
   "id": "6d3a12dc",
   "metadata": {},
   "outputs": [],
   "source": [
    "for i in indexList:\n",
    "    linkList.insert(i, remainingLinks[0])\n",
    "    remainingLinks.pop(0)"
   ]
  },
  {
   "cell_type": "code",
   "execution_count": 34,
   "id": "d4507a5a",
   "metadata": {},
   "outputs": [
    {
     "data": {
      "text/plain": [
       "[]"
      ]
     },
     "execution_count": 34,
     "metadata": {},
     "output_type": "execute_result"
    }
   ],
   "source": [
    "indexList"
   ]
  },
  {
   "cell_type": "code",
   "execution_count": 35,
   "id": "c9c81656",
   "metadata": {},
   "outputs": [],
   "source": [
    "datePosted = []"
   ]
  },
  {
   "cell_type": "code",
   "execution_count": 36,
   "id": "2a7793cd",
   "metadata": {},
   "outputs": [],
   "source": [
    "for m in range(n):\n",
    "    try:\n",
    "        time_element = driver.find_elements(By.CSS_SELECTOR, \".job-search-card__listdate, .job-search-card__listdate--new\")[m].get_attribute('datetime')\n",
    "        datePosted.append(time_element)\n",
    "    except IndexError:\n",
    "        pass"
   ]
  },
  {
   "cell_type": "code",
   "execution_count": 37,
   "id": "bd9b538c",
   "metadata": {},
   "outputs": [
    {
     "data": {
      "text/plain": [
       "193"
      ]
     },
     "execution_count": 37,
     "metadata": {},
     "output_type": "execute_result"
    }
   ],
   "source": [
    "len(datePosted)"
   ]
  },
  {
   "cell_type": "code",
   "execution_count": 38,
   "id": "22982fcf",
   "metadata": {},
   "outputs": [],
   "source": [
    "companyData = pd.DataFrame(companyName, columns=[\"Company\"])\n",
    "titleData = pd.DataFrame(titleName, columns=[\"Title\"])\n",
    "linkData = pd.DataFrame(linkList, columns=[\"Links\"])\n",
    "dateData = pd.DataFrame(datePosted, columns=[\"Date Posted\"])"
   ]
  },
  {
   "cell_type": "code",
   "execution_count": 39,
   "id": "c7b25875",
   "metadata": {},
   "outputs": [
    {
     "data": {
      "text/html": [
       "<div>\n",
       "<style scoped>\n",
       "    .dataframe tbody tr th:only-of-type {\n",
       "        vertical-align: middle;\n",
       "    }\n",
       "\n",
       "    .dataframe tbody tr th {\n",
       "        vertical-align: top;\n",
       "    }\n",
       "\n",
       "    .dataframe thead th {\n",
       "        text-align: right;\n",
       "    }\n",
       "</style>\n",
       "<table border=\"1\" class=\"dataframe\">\n",
       "  <thead>\n",
       "    <tr style=\"text-align: right;\">\n",
       "      <th></th>\n",
       "      <th>Company</th>\n",
       "    </tr>\n",
       "  </thead>\n",
       "  <tbody>\n",
       "    <tr>\n",
       "      <th>0</th>\n",
       "      <td>Carnegie Mellon University</td>\n",
       "    </tr>\n",
       "    <tr>\n",
       "      <th>1</th>\n",
       "      <td>Lam Research</td>\n",
       "    </tr>\n",
       "    <tr>\n",
       "      <th>2</th>\n",
       "      <td>PING</td>\n",
       "    </tr>\n",
       "    <tr>\n",
       "      <th>3</th>\n",
       "      <td>Siemens EDA (Siemens Digital Industries Software)</td>\n",
       "    </tr>\n",
       "    <tr>\n",
       "      <th>4</th>\n",
       "      <td>Roche</td>\n",
       "    </tr>\n",
       "    <tr>\n",
       "      <th>...</th>\n",
       "      <td>...</td>\n",
       "    </tr>\n",
       "    <tr>\n",
       "      <th>188</th>\n",
       "      <td>Peraton</td>\n",
       "    </tr>\n",
       "    <tr>\n",
       "      <th>189</th>\n",
       "      <td>Terracon</td>\n",
       "    </tr>\n",
       "    <tr>\n",
       "      <th>190</th>\n",
       "      <td>Peraton</td>\n",
       "    </tr>\n",
       "    <tr>\n",
       "      <th>191</th>\n",
       "      <td>Terracon</td>\n",
       "    </tr>\n",
       "    <tr>\n",
       "      <th>192</th>\n",
       "      <td>WayUp</td>\n",
       "    </tr>\n",
       "  </tbody>\n",
       "</table>\n",
       "<p>193 rows × 1 columns</p>\n",
       "</div>"
      ],
      "text/plain": [
       "                                               Company\n",
       "0                           Carnegie Mellon University\n",
       "1                                         Lam Research\n",
       "2                                                 PING\n",
       "3    Siemens EDA (Siemens Digital Industries Software)\n",
       "4                                                Roche\n",
       "..                                                 ...\n",
       "188                                            Peraton\n",
       "189                                           Terracon\n",
       "190                                            Peraton\n",
       "191                                           Terracon\n",
       "192                                              WayUp\n",
       "\n",
       "[193 rows x 1 columns]"
      ]
     },
     "execution_count": 39,
     "metadata": {},
     "output_type": "execute_result"
    }
   ],
   "source": [
    "companyData"
   ]
  },
  {
   "cell_type": "code",
   "execution_count": 40,
   "id": "d6390c55",
   "metadata": {},
   "outputs": [
    {
     "data": {
      "text/html": [
       "<div>\n",
       "<style scoped>\n",
       "    .dataframe tbody tr th:only-of-type {\n",
       "        vertical-align: middle;\n",
       "    }\n",
       "\n",
       "    .dataframe tbody tr th {\n",
       "        vertical-align: top;\n",
       "    }\n",
       "\n",
       "    .dataframe thead th {\n",
       "        text-align: right;\n",
       "    }\n",
       "</style>\n",
       "<table border=\"1\" class=\"dataframe\">\n",
       "  <thead>\n",
       "    <tr style=\"text-align: right;\">\n",
       "      <th></th>\n",
       "      <th>Title</th>\n",
       "    </tr>\n",
       "  </thead>\n",
       "  <tbody>\n",
       "    <tr>\n",
       "      <th>0</th>\n",
       "      <td>Software Engineering Intern - NREC</td>\n",
       "    </tr>\n",
       "    <tr>\n",
       "      <th>1</th>\n",
       "      <td>Computational Science Software Engineering Int...</td>\n",
       "    </tr>\n",
       "    <tr>\n",
       "      <th>2</th>\n",
       "      <td>Software Engineering/Business Analyst Intern</td>\n",
       "    </tr>\n",
       "    <tr>\n",
       "      <th>3</th>\n",
       "      <td>Strategic Student Program: Software Developmen...</td>\n",
       "    </tr>\n",
       "    <tr>\n",
       "      <th>4</th>\n",
       "      <td>2025 Summer Intern - System Engineer/Sequencin...</td>\n",
       "    </tr>\n",
       "    <tr>\n",
       "      <th>...</th>\n",
       "      <td>...</td>\n",
       "    </tr>\n",
       "    <tr>\n",
       "      <th>188</th>\n",
       "      <td>Senior Software Engineer</td>\n",
       "    </tr>\n",
       "    <tr>\n",
       "      <th>189</th>\n",
       "      <td>Geotechnical Field Engineer</td>\n",
       "    </tr>\n",
       "    <tr>\n",
       "      <th>190</th>\n",
       "      <td>Senior-Level GEOINT Systems Engineer</td>\n",
       "    </tr>\n",
       "    <tr>\n",
       "      <th>191</th>\n",
       "      <td>Field Engineer/Building Enclosure Consultant</td>\n",
       "    </tr>\n",
       "    <tr>\n",
       "      <th>192</th>\n",
       "      <td>SAP, SAP iXp Intern -Software-User Experience ...</td>\n",
       "    </tr>\n",
       "  </tbody>\n",
       "</table>\n",
       "<p>193 rows × 1 columns</p>\n",
       "</div>"
      ],
      "text/plain": [
       "                                                 Title\n",
       "0                   Software Engineering Intern - NREC\n",
       "1    Computational Science Software Engineering Int...\n",
       "2         Software Engineering/Business Analyst Intern\n",
       "3    Strategic Student Program: Software Developmen...\n",
       "4    2025 Summer Intern - System Engineer/Sequencin...\n",
       "..                                                 ...\n",
       "188                           Senior Software Engineer\n",
       "189                        Geotechnical Field Engineer\n",
       "190               Senior-Level GEOINT Systems Engineer\n",
       "191       Field Engineer/Building Enclosure Consultant\n",
       "192  SAP, SAP iXp Intern -Software-User Experience ...\n",
       "\n",
       "[193 rows x 1 columns]"
      ]
     },
     "execution_count": 40,
     "metadata": {},
     "output_type": "execute_result"
    }
   ],
   "source": [
    "titleData"
   ]
  },
  {
   "cell_type": "code",
   "execution_count": 41,
   "id": "521e4ec3",
   "metadata": {},
   "outputs": [
    {
     "data": {
      "text/html": [
       "<div>\n",
       "<style scoped>\n",
       "    .dataframe tbody tr th:only-of-type {\n",
       "        vertical-align: middle;\n",
       "    }\n",
       "\n",
       "    .dataframe tbody tr th {\n",
       "        vertical-align: top;\n",
       "    }\n",
       "\n",
       "    .dataframe thead th {\n",
       "        text-align: right;\n",
       "    }\n",
       "</style>\n",
       "<table border=\"1\" class=\"dataframe\">\n",
       "  <thead>\n",
       "    <tr style=\"text-align: right;\">\n",
       "      <th></th>\n",
       "      <th>Links</th>\n",
       "    </tr>\n",
       "  </thead>\n",
       "  <tbody>\n",
       "    <tr>\n",
       "      <th>0</th>\n",
       "      <td>https://www.linkedin.com/jobs/view/software-en...</td>\n",
       "    </tr>\n",
       "    <tr>\n",
       "      <th>1</th>\n",
       "      <td>https://www.linkedin.com/jobs/view/computation...</td>\n",
       "    </tr>\n",
       "    <tr>\n",
       "      <th>2</th>\n",
       "      <td>https://www.linkedin.com/jobs/view/software-en...</td>\n",
       "    </tr>\n",
       "    <tr>\n",
       "      <th>3</th>\n",
       "      <td>https://www.linkedin.com/jobs/view/strategic-s...</td>\n",
       "    </tr>\n",
       "    <tr>\n",
       "      <th>4</th>\n",
       "      <td>https://www.linkedin.com/jobs/view/2025-summer...</td>\n",
       "    </tr>\n",
       "    <tr>\n",
       "      <th>...</th>\n",
       "      <td>...</td>\n",
       "    </tr>\n",
       "    <tr>\n",
       "      <th>188</th>\n",
       "      <td>https://www.linkedin.com/jobs/view/senior-soft...</td>\n",
       "    </tr>\n",
       "    <tr>\n",
       "      <th>189</th>\n",
       "      <td>https://www.linkedin.com/jobs/view/geotechnica...</td>\n",
       "    </tr>\n",
       "    <tr>\n",
       "      <th>190</th>\n",
       "      <td>https://www.linkedin.com/jobs/view/senior-leve...</td>\n",
       "    </tr>\n",
       "    <tr>\n",
       "      <th>191</th>\n",
       "      <td>https://www.linkedin.com/jobs/view/field-engin...</td>\n",
       "    </tr>\n",
       "    <tr>\n",
       "      <th>192</th>\n",
       "      <td>https://www.linkedin.com/jobs/view/sap-sap-ixp...</td>\n",
       "    </tr>\n",
       "  </tbody>\n",
       "</table>\n",
       "<p>193 rows × 1 columns</p>\n",
       "</div>"
      ],
      "text/plain": [
       "                                                 Links\n",
       "0    https://www.linkedin.com/jobs/view/software-en...\n",
       "1    https://www.linkedin.com/jobs/view/computation...\n",
       "2    https://www.linkedin.com/jobs/view/software-en...\n",
       "3    https://www.linkedin.com/jobs/view/strategic-s...\n",
       "4    https://www.linkedin.com/jobs/view/2025-summer...\n",
       "..                                                 ...\n",
       "188  https://www.linkedin.com/jobs/view/senior-soft...\n",
       "189  https://www.linkedin.com/jobs/view/geotechnica...\n",
       "190  https://www.linkedin.com/jobs/view/senior-leve...\n",
       "191  https://www.linkedin.com/jobs/view/field-engin...\n",
       "192  https://www.linkedin.com/jobs/view/sap-sap-ixp...\n",
       "\n",
       "[193 rows x 1 columns]"
      ]
     },
     "execution_count": 41,
     "metadata": {},
     "output_type": "execute_result"
    }
   ],
   "source": [
    "linkData"
   ]
  },
  {
   "cell_type": "code",
   "execution_count": 42,
   "id": "4c365e7e",
   "metadata": {},
   "outputs": [],
   "source": [
    "jobData = pd.DataFrame()\n",
    "jobData = pd.concat([companyData, titleData, dateData, linkData], axis=1)\n",
    "numColumns = (jobData.shape[1]*2)-1\n",
    "\n",
    "for i in range(1, numColumns, 2):\n",
    "    jobData.insert(i, f'Empty_{i}', '')\n",
    "    \n",
    "jobData.index = jobData.index+1"
   ]
  },
  {
   "cell_type": "code",
   "execution_count": null,
   "id": "d0b9d7d2",
   "metadata": {},
   "outputs": [
    {
     "data": {
      "text/html": [
       "<div>\n",
       "<style scoped>\n",
       "    .dataframe tbody tr th:only-of-type {\n",
       "        vertical-align: middle;\n",
       "    }\n",
       "\n",
       "    .dataframe tbody tr th {\n",
       "        vertical-align: top;\n",
       "    }\n",
       "\n",
       "    .dataframe thead th {\n",
       "        text-align: right;\n",
       "    }\n",
       "</style>\n",
       "<table border=\"1\" class=\"dataframe\">\n",
       "  <thead>\n",
       "    <tr style=\"text-align: right;\">\n",
       "      <th></th>\n",
       "      <th>Company</th>\n",
       "      <th>Empty_1</th>\n",
       "      <th>Title</th>\n",
       "      <th>Empty_3</th>\n",
       "      <th>Date Posted</th>\n",
       "      <th>Empty_5</th>\n",
       "      <th>Links</th>\n",
       "    </tr>\n",
       "  </thead>\n",
       "  <tbody>\n",
       "    <tr>\n",
       "      <th>1</th>\n",
       "      <td>Carnegie Mellon University</td>\n",
       "      <td></td>\n",
       "      <td>Software Engineering Intern - NREC</td>\n",
       "      <td></td>\n",
       "      <td>2025-02-05</td>\n",
       "      <td></td>\n",
       "      <td>https://www.linkedin.com/jobs/view/software-en...</td>\n",
       "    </tr>\n",
       "    <tr>\n",
       "      <th>2</th>\n",
       "      <td>Lam Research</td>\n",
       "      <td></td>\n",
       "      <td>Computational Science Software Engineering Int...</td>\n",
       "      <td></td>\n",
       "      <td>2025-02-05</td>\n",
       "      <td></td>\n",
       "      <td>https://www.linkedin.com/jobs/view/computation...</td>\n",
       "    </tr>\n",
       "    <tr>\n",
       "      <th>3</th>\n",
       "      <td>PING</td>\n",
       "      <td></td>\n",
       "      <td>Software Engineering/Business Analyst Intern</td>\n",
       "      <td></td>\n",
       "      <td>2025-02-06</td>\n",
       "      <td></td>\n",
       "      <td>https://www.linkedin.com/jobs/view/software-en...</td>\n",
       "    </tr>\n",
       "    <tr>\n",
       "      <th>4</th>\n",
       "      <td>Siemens EDA (Siemens Digital Industries Software)</td>\n",
       "      <td></td>\n",
       "      <td>Strategic Student Program: Software Developmen...</td>\n",
       "      <td></td>\n",
       "      <td>2025-02-05</td>\n",
       "      <td></td>\n",
       "      <td>https://www.linkedin.com/jobs/view/strategic-s...</td>\n",
       "    </tr>\n",
       "    <tr>\n",
       "      <th>5</th>\n",
       "      <td>Roche</td>\n",
       "      <td></td>\n",
       "      <td>2025 Summer Intern - System Engineer/Sequencin...</td>\n",
       "      <td></td>\n",
       "      <td>2025-02-05</td>\n",
       "      <td></td>\n",
       "      <td>https://www.linkedin.com/jobs/view/2025-summer...</td>\n",
       "    </tr>\n",
       "    <tr>\n",
       "      <th>...</th>\n",
       "      <td>...</td>\n",
       "      <td>...</td>\n",
       "      <td>...</td>\n",
       "      <td>...</td>\n",
       "      <td>...</td>\n",
       "      <td>...</td>\n",
       "      <td>...</td>\n",
       "    </tr>\n",
       "    <tr>\n",
       "      <th>189</th>\n",
       "      <td>Peraton</td>\n",
       "      <td></td>\n",
       "      <td>Senior Software Engineer</td>\n",
       "      <td></td>\n",
       "      <td>2025-02-07</td>\n",
       "      <td></td>\n",
       "      <td>https://www.linkedin.com/jobs/view/senior-soft...</td>\n",
       "    </tr>\n",
       "    <tr>\n",
       "      <th>190</th>\n",
       "      <td>Terracon</td>\n",
       "      <td></td>\n",
       "      <td>Geotechnical Field Engineer</td>\n",
       "      <td></td>\n",
       "      <td>2025-02-07</td>\n",
       "      <td></td>\n",
       "      <td>https://www.linkedin.com/jobs/view/geotechnica...</td>\n",
       "    </tr>\n",
       "    <tr>\n",
       "      <th>191</th>\n",
       "      <td>Peraton</td>\n",
       "      <td></td>\n",
       "      <td>Senior-Level GEOINT Systems Engineer</td>\n",
       "      <td></td>\n",
       "      <td>2025-02-09</td>\n",
       "      <td></td>\n",
       "      <td>https://www.linkedin.com/jobs/view/senior-leve...</td>\n",
       "    </tr>\n",
       "    <tr>\n",
       "      <th>192</th>\n",
       "      <td>Terracon</td>\n",
       "      <td></td>\n",
       "      <td>Field Engineer/Building Enclosure Consultant</td>\n",
       "      <td></td>\n",
       "      <td>2025-02-05</td>\n",
       "      <td></td>\n",
       "      <td>https://www.linkedin.com/jobs/view/field-engin...</td>\n",
       "    </tr>\n",
       "    <tr>\n",
       "      <th>193</th>\n",
       "      <td>WayUp</td>\n",
       "      <td></td>\n",
       "      <td>SAP, SAP iXp Intern -Software-User Experience ...</td>\n",
       "      <td></td>\n",
       "      <td>2025-02-07</td>\n",
       "      <td></td>\n",
       "      <td>https://www.linkedin.com/jobs/view/sap-sap-ixp...</td>\n",
       "    </tr>\n",
       "  </tbody>\n",
       "</table>\n",
       "<p>193 rows × 7 columns</p>\n",
       "</div>"
      ],
      "text/plain": [
       "                                               Company Empty_1  \\\n",
       "1                           Carnegie Mellon University           \n",
       "2                                         Lam Research           \n",
       "3                                                 PING           \n",
       "4    Siemens EDA (Siemens Digital Industries Software)           \n",
       "5                                                Roche           \n",
       "..                                                 ...     ...   \n",
       "189                                            Peraton           \n",
       "190                                           Terracon           \n",
       "191                                            Peraton           \n",
       "192                                           Terracon           \n",
       "193                                              WayUp           \n",
       "\n",
       "                                                 Title Empty_3 Date Posted  \\\n",
       "1                   Software Engineering Intern - NREC          2025-02-05   \n",
       "2    Computational Science Software Engineering Int...          2025-02-05   \n",
       "3         Software Engineering/Business Analyst Intern          2025-02-06   \n",
       "4    Strategic Student Program: Software Developmen...          2025-02-05   \n",
       "5    2025 Summer Intern - System Engineer/Sequencin...          2025-02-05   \n",
       "..                                                 ...     ...         ...   \n",
       "189                           Senior Software Engineer          2025-02-07   \n",
       "190                        Geotechnical Field Engineer          2025-02-07   \n",
       "191               Senior-Level GEOINT Systems Engineer          2025-02-09   \n",
       "192       Field Engineer/Building Enclosure Consultant          2025-02-05   \n",
       "193  SAP, SAP iXp Intern -Software-User Experience ...          2025-02-07   \n",
       "\n",
       "    Empty_5                                              Links  \n",
       "1            https://www.linkedin.com/jobs/view/software-en...  \n",
       "2            https://www.linkedin.com/jobs/view/computation...  \n",
       "3            https://www.linkedin.com/jobs/view/software-en...  \n",
       "4            https://www.linkedin.com/jobs/view/strategic-s...  \n",
       "5            https://www.linkedin.com/jobs/view/2025-summer...  \n",
       "..      ...                                                ...  \n",
       "189          https://www.linkedin.com/jobs/view/senior-soft...  \n",
       "190          https://www.linkedin.com/jobs/view/geotechnica...  \n",
       "191          https://www.linkedin.com/jobs/view/senior-leve...  \n",
       "192          https://www.linkedin.com/jobs/view/field-engin...  \n",
       "193          https://www.linkedin.com/jobs/view/sap-sap-ixp...  \n",
       "\n",
       "[193 rows x 7 columns]"
      ]
     },
     "execution_count": 46,
     "metadata": {},
     "output_type": "execute_result"
    }
   ],
   "source": [
    "jobData"
   ]
  },
  {
   "cell_type": "code",
   "execution_count": 44,
   "id": "cf84dff8",
   "metadata": {},
   "outputs": [],
   "source": [
    "jobData.to_csv(\"LinkedIn_SWE_Intern_Jobs.csv\")"
   ]
  },
  {
   "cell_type": "code",
   "execution_count": 45,
   "id": "db415de2",
   "metadata": {},
   "outputs": [],
   "source": [
    "driver.quit()"
   ]
  },
  {
   "cell_type": "code",
   "execution_count": null,
   "id": "480481ac",
   "metadata": {},
   "outputs": [],
   "source": []
  }
 ],
 "metadata": {
  "kernelspec": {
   "display_name": "Python 3",
   "language": "python",
   "name": "python3"
  },
  "language_info": {
   "codemirror_mode": {
    "name": "ipython",
    "version": 3
   },
   "file_extension": ".py",
   "mimetype": "text/x-python",
   "name": "python",
   "nbconvert_exporter": "python",
   "pygments_lexer": "ipython3",
   "version": "3.12.1"
  }
 },
 "nbformat": 4,
 "nbformat_minor": 5
}

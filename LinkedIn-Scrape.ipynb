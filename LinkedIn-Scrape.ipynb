{
 "cells": [
  {
   "cell_type": "code",
   "execution_count": null,
   "id": "86934359",
   "metadata": {},
   "outputs": [],
   "source": [
    "# imports libraries and dependencies\n",
    "from selenium import webdriver\n",
    "import time\n",
    "import pandas as pd\n",
    "import random\n",
    "from dotenv import load_dotenv\n",
    "import os\n",
    "\n",
    "from selenium.webdriver.support.select import Select\n",
    "from selenium.webdriver.support.ui import WebDriverWait\n",
    "from selenium.webdriver.common.by import By\n",
    "from selenium.webdriver.support import expected_conditions as EC\n",
    "from selenium.webdriver.chrome.service import Service\n",
    "from selenium.common.exceptions import NoSuchElementException, TimeoutException\n",
    "from selenium.webdriver.common.action_chains import ActionChains"
   ]
  },
  {
   "cell_type": "code",
   "execution_count": null,
   "id": "26df224f",
   "metadata": {},
   "outputs": [],
   "source": [
    "# url used to get the internship postings which is already filtered\n",
    "url1 = 'https://www.linkedin.com/jobs/search/?keywords=Software%20Engineer%20Intern&location=United%20States&geoId=103644278&f_TPR=r604800&position=1&pageNum=0'"
   ]
  },
  {
   "cell_type": "code",
   "execution_count": null,
   "id": "6567f03d",
   "metadata": {},
   "outputs": [],
   "source": [
    "# sets up the chrome driver and opens the webpage\n",
    "load_dotenv()\n",
    "service = Service(os.getenv(\"CHROMEDRIVER_PATH\"))\n",
    "driver = webdriver.Chrome(service=service)\n",
    "driver.get(url1)\n",
    "driver.implicitly_wait(10)"
   ]
  },
  {
   "cell_type": "code",
   "execution_count": null,
   "id": "47a34452",
   "metadata": {},
   "outputs": [],
   "source": [
    "# close popup\n",
    "actions = ActionChains(driver)\n",
    "actions.move_by_offset(random.randint(1, 5), random.randint(1, 5)).click().perform()"
   ]
  },
  {
   "cell_type": "code",
   "execution_count": null,
   "id": "07e3cf58",
   "metadata": {},
   "outputs": [],
   "source": [
    "# gets the number of postings\n",
    "n = driver.find_element(By.CLASS_NAME, \"results-context-header__job-count\").text"
   ]
  },
  {
   "cell_type": "code",
   "execution_count": null,
   "id": "98a0d169",
   "metadata": {},
   "outputs": [],
   "source": [
    "n = pd.to_numeric(n)\n",
    "n"
   ]
  },
  {
   "cell_type": "code",
   "execution_count": null,
   "id": "1a50ad84",
   "metadata": {},
   "outputs": [],
   "source": [
    "# scrolls through the page until the last posting is available\n",
    "i = 1\n",
    "numScroll = (n/25)+1\n",
    "\n",
    "while(i <= numScroll):\n",
    "    driver.execute_script(\"window.scrollTo(0, document.body.scrollHeight);\")\n",
    "    i = i + 1\n",
    "    \n",
    "    try:\n",
    "        see_more_button = WebDriverWait(driver, 5).until(\n",
    "            EC.element_to_be_clickable((By.XPATH, \"//button[@aria-label='See more jobs']\"))\n",
    "        )\n",
    "        see_more_button.click()\n",
    "        time.sleep(random.randint(3, 6))\n",
    "    except:\n",
    "        pass\n",
    "        time.sleep(random.randint(2, 5))"
   ]
  },
  {
   "cell_type": "code",
   "execution_count": 23,
   "id": "80b13710",
   "metadata": {},
   "outputs": [],
   "source": [
    "companyName = []"
   ]
  },
  {
   "cell_type": "code",
   "execution_count": null,
   "id": "4668de96",
   "metadata": {},
   "outputs": [],
   "source": [
    "# gets the company names of all postings\n",
    "numJobs = 0\n",
    "\n",
    "for j in range(n):\n",
    "    try:\n",
    "        company = driver.find_elements(By.CLASS_NAME, \"base-search-card__subtitle\")[j].text\n",
    "        numJobs = numJobs+1\n",
    "        companyName.append(company)\n",
    "    \n",
    "    except IndexError:\n",
    "        pass"
   ]
  },
  {
   "cell_type": "code",
   "execution_count": null,
   "id": "d0c5cfbb",
   "metadata": {},
   "outputs": [],
   "source": [
    "len(companyName)"
   ]
  },
  {
   "cell_type": "code",
   "execution_count": null,
   "id": "b97ca72c",
   "metadata": {},
   "outputs": [],
   "source": [
    "titleName = []"
   ]
  },
  {
   "cell_type": "code",
   "execution_count": null,
   "id": "d20cd720",
   "metadata": {},
   "outputs": [],
   "source": [
    "# gets the posting title of each internship\n",
    "for i in range(numJobs):\n",
    "    try:\n",
    "        title = driver.find_elements(By.CLASS_NAME, \"base-search-card__title\")[i].text\n",
    "        titleName.append(title)\n",
    "    \n",
    "    except IndexError:\n",
    "        pass"
   ]
  },
  {
   "cell_type": "code",
   "execution_count": null,
   "id": "22ee8e5a",
   "metadata": {},
   "outputs": [],
   "source": [
    "len(titleName)"
   ]
  },
  {
   "cell_type": "code",
   "execution_count": 29,
   "id": "182f14ce",
   "metadata": {},
   "outputs": [],
   "source": [
    "linkList = []"
   ]
  },
  {
   "cell_type": "code",
   "execution_count": null,
   "id": "6febd1c3",
   "metadata": {},
   "outputs": [],
   "source": [
    "# gets the links of all internships\n",
    "for k in range(n):\n",
    "    try:\n",
    "        link_element = driver.find_elements(By.CLASS_NAME, \"base-card__full-link\")[k].get_attribute('href')\n",
    "        if link_element is not None:\n",
    "            linkList.append(link_element)\n",
    "    except IndexError:\n",
    "        pass"
   ]
  },
  {
   "cell_type": "code",
   "execution_count": null,
   "id": "9b2b5fd5",
   "metadata": {},
   "outputs": [],
   "source": [
    "len(linkList)"
   ]
  },
  {
   "cell_type": "code",
   "execution_count": null,
   "id": "c3624fee",
   "metadata": {},
   "outputs": [],
   "source": [
    "# gets indices of hidden or empty links\n",
    "remainingLinks = []\n",
    "indexList = []\n",
    "\n",
    "for k in range(n):\n",
    "    try:\n",
    "        link_element = driver.find_elements(By.CLASS_NAME, \"base-card--link\")[k].get_attribute('href')\n",
    "        if link_element is not None:\n",
    "            indexList.append(k)\n",
    "            remainingLinks.append(link_element)\n",
    "    except IndexError:\n",
    "        pass"
   ]
  },
  {
   "cell_type": "code",
   "execution_count": null,
   "id": "6d3a12dc",
   "metadata": {},
   "outputs": [],
   "source": [
    "# uses the indices to fill the empty/hidden links\n",
    "for i in indexList:\n",
    "    linkList.insert(i, remainingLinks[0])\n",
    "    remainingLinks.pop(0)"
   ]
  },
  {
   "cell_type": "code",
   "execution_count": 34,
   "id": "d4507a5a",
   "metadata": {},
   "outputs": [
    {
     "data": {
      "text/plain": [
       "[]"
      ]
     },
     "execution_count": 34,
     "metadata": {},
     "output_type": "execute_result"
    }
   ],
   "source": [
    "indexList"
   ]
  },
  {
   "cell_type": "code",
   "execution_count": 35,
   "id": "c9c81656",
   "metadata": {},
   "outputs": [],
   "source": [
    "datePosted = []"
   ]
  },
  {
   "cell_type": "code",
   "execution_count": null,
   "id": "2a7793cd",
   "metadata": {},
   "outputs": [],
   "source": [
    "# gets the date of all postings\n",
    "for m in range(n):\n",
    "    try:\n",
    "        time_element = driver.find_elements(By.CSS_SELECTOR, \".job-search-card__listdate, .job-search-card__listdate--new\")[m].get_attribute('datetime')\n",
    "        datePosted.append(time_element)\n",
    "    except IndexError:\n",
    "        pass"
   ]
  },
  {
   "cell_type": "code",
   "execution_count": null,
   "id": "bd9b538c",
   "metadata": {},
   "outputs": [],
   "source": [
    "len(datePosted)"
   ]
  },
  {
   "cell_type": "code",
   "execution_count": null,
   "id": "22982fcf",
   "metadata": {},
   "outputs": [],
   "source": [
    "# convert all data to pandas dataframe\n",
    "companyData = pd.DataFrame(companyName, columns=[\"Company\"])\n",
    "titleData = pd.DataFrame(titleName, columns=[\"Title\"])\n",
    "linkData = pd.DataFrame(linkList, columns=[\"Links\"])\n",
    "dateData = pd.DataFrame(datePosted, columns=[\"Date Posted\"])"
   ]
  },
  {
   "cell_type": "code",
   "execution_count": null,
   "id": "4c365e7e",
   "metadata": {},
   "outputs": [],
   "source": [
    "# processes all data in order to be converted to a CSV file\n",
    "jobData = pd.DataFrame()\n",
    "jobData = pd.concat([companyData, titleData, dateData, linkData], axis=1)\n",
    "numColumns = (jobData.shape[1]*2)-1\n",
    "\n",
    "for i in range(1, numColumns, 2):\n",
    "    jobData.insert(i, f'Empty_{i}', '')\n",
    "    \n",
    "jobData.index = jobData.index+1"
   ]
  },
  {
   "cell_type": "code",
   "execution_count": null,
   "id": "d0b9d7d2",
   "metadata": {},
   "outputs": [],
   "source": [
    "jobData"
   ]
  },
  {
   "cell_type": "code",
   "execution_count": null,
   "id": "cf84dff8",
   "metadata": {},
   "outputs": [],
   "source": [
    "# puts all the postings in a csv file\n",
    "jobData.to_csv(\"LinkedIn_SWE_Intern_Jobs.csv\")"
   ]
  },
  {
   "cell_type": "code",
   "execution_count": 45,
   "id": "db415de2",
   "metadata": {},
   "outputs": [],
   "source": [
    "driver.quit()"
   ]
  },
  {
   "cell_type": "code",
   "execution_count": null,
   "id": "480481ac",
   "metadata": {},
   "outputs": [],
   "source": []
  }
 ],
 "metadata": {
  "kernelspec": {
   "display_name": "Python 3",
   "language": "python",
   "name": "python3"
  },
  "language_info": {
   "codemirror_mode": {
    "name": "ipython",
    "version": 3
   },
   "file_extension": ".py",
   "mimetype": "text/x-python",
   "name": "python",
   "nbconvert_exporter": "python",
   "pygments_lexer": "ipython3",
   "version": "3.12.1"
  }
 },
 "nbformat": 4,
 "nbformat_minor": 5
}

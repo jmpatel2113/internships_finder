{
 "cells": [
  {
   "cell_type": "code",
   "execution_count": 48,
   "id": "86934359",
   "metadata": {},
   "outputs": [],
   "source": [
    "from selenium import webdriver\n",
    "import time\n",
    "import pandas as pd\n",
    "import random\n",
    "from dotenv import load_dotenv\n",
    "import os\n",
    "\n",
    "from selenium.webdriver.support.select import Select\n",
    "from selenium.webdriver.support.ui import WebDriverWait\n",
    "from selenium.webdriver.common.by import By\n",
    "from selenium.webdriver.support import expected_conditions as EC\n",
    "from selenium.webdriver.chrome.service import Service\n",
    "from selenium.common.exceptions import NoSuchElementException, TimeoutException\n",
    "from selenium.webdriver.common.action_chains import ActionChains"
   ]
  },
  {
   "cell_type": "code",
   "execution_count": 49,
   "id": "26df224f",
   "metadata": {},
   "outputs": [],
   "source": [
    "url1 = 'https://www.linkedin.com/jobs/search/?keywords=Software%20Engineer%20Intern&location=United%20States&geoId=103644278&f_TPR=r604800&position=1&pageNum=0'"
   ]
  },
  {
   "cell_type": "code",
   "execution_count": 52,
   "id": "6567f03d",
   "metadata": {},
   "outputs": [],
   "source": [
    "load_dotenv()\n",
    "service = Service(os.getenv(\"CHROMEDRIVER_PATH\"))\n",
    "driver = webdriver.Chrome(service=service)\n",
    "driver.get(url1)\n",
    "driver.implicitly_wait(10)"
   ]
  },
  {
   "cell_type": "code",
   "execution_count": 53,
   "id": "47a34452",
   "metadata": {},
   "outputs": [],
   "source": [
    "actions = ActionChains(driver)\n",
    "actions.move_by_offset(random.randint(1, 5), random.randint(1, 5)).click().perform()"
   ]
  },
  {
   "cell_type": "code",
   "execution_count": 19,
   "id": "07e3cf58",
   "metadata": {},
   "outputs": [],
   "source": [
    "n = driver.find_element(By.CLASS_NAME, \"results-context-header__job-count\").text"
   ]
  },
  {
   "cell_type": "code",
   "execution_count": 20,
   "id": "6bdbf56c",
   "metadata": {},
   "outputs": [
    {
     "data": {
      "text/plain": [
       "'354'"
      ]
     },
     "execution_count": 20,
     "metadata": {},
     "output_type": "execute_result"
    }
   ],
   "source": [
    "n"
   ]
  },
  {
   "cell_type": "code",
   "execution_count": 21,
   "id": "98a0d169",
   "metadata": {},
   "outputs": [
    {
     "data": {
      "text/plain": [
       "354"
      ]
     },
     "execution_count": 21,
     "metadata": {},
     "output_type": "execute_result"
    }
   ],
   "source": [
    "n = pd.to_numeric(n)\n",
    "n"
   ]
  },
  {
   "cell_type": "code",
   "execution_count": null,
   "id": "1a50ad84",
   "metadata": {},
   "outputs": [],
   "source": [
    "i = 1\n",
    "numScroll = (n/25)+1\n",
    "\n",
    "while(i <= numScroll):\n",
    "    driver.execute_script(\"window.scrollTo(0, document.body.scrollHeight);\")\n",
    "    i = i + 1\n",
    "    \n",
    "    try:\n",
    "        see_more_button = WebDriverWait(driver, 5).until(\n",
    "            EC.element_to_be_clickable((By.XPATH, \"//button[@aria-label='See more jobs']\"))\n",
    "        )\n",
    "        see_more_button.click()\n",
    "        time.sleep(random.randint(3, 6))\n",
    "    except:\n",
    "        pass\n",
    "        time.sleep(random.randint(2, 5))"
   ]
  },
  {
   "cell_type": "code",
   "execution_count": 23,
   "id": "80b13710",
   "metadata": {},
   "outputs": [],
   "source": [
    "companyName = []"
   ]
  },
  {
   "cell_type": "code",
   "execution_count": null,
   "id": "4668de96",
   "metadata": {},
   "outputs": [],
   "source": [
    "numJobs = 0\n",
    "\n",
    "for j in range(n):\n",
    "    try:\n",
    "        company = driver.find_elements(By.CLASS_NAME, \"base-search-card__subtitle\")[j].text\n",
    "        numJobs = numJobs+1\n",
    "        companyName.append(company)\n",
    "    \n",
    "    except IndexError:\n",
    "        pass"
   ]
  },
  {
   "cell_type": "code",
   "execution_count": 25,
   "id": "d0c5cfbb",
   "metadata": {},
   "outputs": [
    {
     "data": {
      "text/plain": [
       "193"
      ]
     },
     "execution_count": 25,
     "metadata": {},
     "output_type": "execute_result"
    }
   ],
   "source": [
    "len(companyName)"
   ]
  },
  {
   "cell_type": "code",
   "execution_count": 26,
   "id": "b97ca72c",
   "metadata": {},
   "outputs": [],
   "source": [
    "titleName = []"
   ]
  },
  {
   "cell_type": "code",
   "execution_count": 27,
   "id": "d20cd720",
   "metadata": {},
   "outputs": [],
   "source": [
    "for i in range(numJobs):\n",
    "    try:\n",
    "        title = driver.find_elements(By.CLASS_NAME, \"base-search-card__title\")[i].text\n",
    "        titleName.append(title)\n",
    "    \n",
    "    except IndexError:\n",
    "        pass"
   ]
  },
  {
   "cell_type": "code",
   "execution_count": 28,
   "id": "22ee8e5a",
   "metadata": {},
   "outputs": [
    {
     "data": {
      "text/plain": [
       "193"
      ]
     },
     "execution_count": 28,
     "metadata": {},
     "output_type": "execute_result"
    }
   ],
   "source": [
    "len(titleName)"
   ]
  },
  {
   "cell_type": "code",
   "execution_count": 29,
   "id": "182f14ce",
   "metadata": {},
   "outputs": [],
   "source": [
    "linkList = []"
   ]
  },
  {
   "cell_type": "code",
   "execution_count": 30,
   "id": "6febd1c3",
   "metadata": {},
   "outputs": [],
   "source": [
    "for k in range(n):\n",
    "    try:\n",
    "        link_element = driver.find_elements(By.CLASS_NAME, \"base-card__full-link\")[k].get_attribute('href')\n",
    "        if link_element is not None:\n",
    "            linkList.append(link_element)\n",
    "    except IndexError:\n",
    "        pass"
   ]
  },
  {
   "cell_type": "code",
   "execution_count": 31,
   "id": "9b2b5fd5",
   "metadata": {},
   "outputs": [
    {
     "data": {
      "text/plain": [
       "['https://www.linkedin.com/jobs/view/software-engineering-intern-nrec-at-carnegie-mellon-university-4144970349?position=1&pageNum=0&refId=WNqG6qB1QMjp%2F95GmXLvSA%3D%3D&trackingId=zdrK9ws9l3h9bcvQx8g%2Fkg%3D%3D',\n",
       " 'https://www.linkedin.com/jobs/view/computational-science-software-engineering-intern-summer-2025-at-lam-research-4058647382?position=2&pageNum=0&refId=WNqG6qB1QMjp%2F95GmXLvSA%3D%3D&trackingId=onF9oFQ51YzAISyu5wMXew%3D%3D',\n",
       " 'https://www.linkedin.com/jobs/view/software-engineering-business-analyst-intern-at-ping-4143542919?position=3&pageNum=0&refId=WNqG6qB1QMjp%2F95GmXLvSA%3D%3D&trackingId=ZplIxXv9Vt5SXbS%2Bx3S%2FAw%3D%3D',\n",
       " 'https://www.linkedin.com/jobs/view/strategic-student-program-software-development-intern-eda-summer-2025-at-siemens-eda-siemens-digital-industries-software-4142506026?position=4&pageNum=0&refId=WNqG6qB1QMjp%2F95GmXLvSA%3D%3D&trackingId=pt%2B7AKitpe7pS6yKN7UQCg%3D%3D',\n",
       " 'https://www.linkedin.com/jobs/view/2025-summer-intern-system-engineer-sequencing-development-at-roche-4144442529?position=5&pageNum=0&refId=WNqG6qB1QMjp%2F95GmXLvSA%3D%3D&trackingId=DEUOVt6CC3myhFMyoy9bYg%3D%3D',\n",
       " 'https://www.linkedin.com/jobs/view/vehicle-control-software-intern-at-hyundai-america-technical-center-inc-hatci-4143057489?position=6&pageNum=0&refId=WNqG6qB1QMjp%2F95GmXLvSA%3D%3D&trackingId=HVVtHyz6EjT2eF9kGEMhdw%3D%3D',\n",
       " 'https://www.linkedin.com/jobs/view/commissioning-summer-intern-at-syska-hennessy-group-4099128748?position=7&pageNum=0&refId=WNqG6qB1QMjp%2F95GmXLvSA%3D%3D&trackingId=BhpOa77JXq1NvZRPcMQO0w%3D%3D',\n",
       " 'https://www.linkedin.com/jobs/view/software-engineer-intern-2025-at-etsy-4136580986?position=8&pageNum=0&refId=WNqG6qB1QMjp%2F95GmXLvSA%3D%3D&trackingId=Gh1TUlCQNKzX%2FGMKUBnTdg%3D%3D',\n",
       " 'https://www.linkedin.com/jobs/view/software-engineer-intern-summer-2025-at-nextdoor-4143824091?position=9&pageNum=0&refId=WNqG6qB1QMjp%2F95GmXLvSA%3D%3D&trackingId=bP2dDEC00ZzlJe2aU20P8A%3D%3D',\n",
       " 'https://www.linkedin.com/jobs/view/software-engineering-intern-summer-2025-at-sigma-4054800372?position=10&pageNum=0&refId=WNqG6qB1QMjp%2F95GmXLvSA%3D%3D&trackingId=o4Bh3JrXePnOYFSrTrl6Qg%3D%3D',\n",
       " 'https://www.linkedin.com/jobs/view/software-engineer-intern-at-pip-labs-4146808172?position=11&pageNum=0&refId=WNqG6qB1QMjp%2F95GmXLvSA%3D%3D&trackingId=Nn1P2kcAlbyXspXIUQX3KA%3D%3D',\n",
       " 'https://www.linkedin.com/jobs/view/software-engineering-intern-summer-2025-at-codehs-4143928670?position=12&pageNum=0&refId=WNqG6qB1QMjp%2F95GmXLvSA%3D%3D&trackingId=rZ0cv6VUPHbFgqBAIWvegw%3D%3D',\n",
       " 'https://www.linkedin.com/jobs/view/2025-intern-software-engineer-at-adobe-4002614315?position=13&pageNum=0&refId=WNqG6qB1QMjp%2F95GmXLvSA%3D%3D&trackingId=AmWa1zSmScg94VVIzgjPFw%3D%3D',\n",
       " 'https://www.linkedin.com/jobs/view/software-engineering-intern-graduate-at-intel-corporation-4122626288?position=14&pageNum=0&refId=WNqG6qB1QMjp%2F95GmXLvSA%3D%3D&trackingId=O8wS6p%2FlZmWidnHmS7ClmA%3D%3D',\n",
       " 'https://www.linkedin.com/jobs/view/software-engineer-intern-at-visa-4142899029?position=15&pageNum=0&refId=WNqG6qB1QMjp%2F95GmXLvSA%3D%3D&trackingId=uku6wbBRPuFFZxjqqdhT0g%3D%3D',\n",
       " 'https://www.linkedin.com/jobs/view/software-engineering-intern-summer-2025-undergraduates-need-only-apply-at-nutanix-4143819862?position=16&pageNum=0&refId=WNqG6qB1QMjp%2F95GmXLvSA%3D%3D&trackingId=w0G3pgqpvzkh6PueTLZ7gQ%3D%3D',\n",
       " 'https://www.linkedin.com/jobs/view/intern-i-software-engineering-at-dexcom-4118001111?position=17&pageNum=0&refId=WNqG6qB1QMjp%2F95GmXLvSA%3D%3D&trackingId=Nl61uuNwr2gU1nPcDrIIXg%3D%3D',\n",
       " 'https://www.linkedin.com/jobs/view/software-engineering-intern-at-fiery-4129288458?position=18&pageNum=0&refId=WNqG6qB1QMjp%2F95GmXLvSA%3D%3D&trackingId=UvL3t69p04ndkOwMG4%2BTvQ%3D%3D',\n",
       " 'https://www.linkedin.com/jobs/view/software-engineer-intern-at-visa-4142898037?position=19&pageNum=0&refId=WNqG6qB1QMjp%2F95GmXLvSA%3D%3D&trackingId=PDrWOFnC1Wrhtwy%2Bc%2BH3eQ%3D%3D',\n",
       " 'https://www.linkedin.com/jobs/view/software-engineer-intern-summer-2025-at-c3-ai-4014153093?position=20&pageNum=0&refId=WNqG6qB1QMjp%2F95GmXLvSA%3D%3D&trackingId=mQhXcM5eTeLdZJ13k1zhfw%3D%3D',\n",
       " 'https://www.linkedin.com/jobs/view/software-developer-intern-summer-internship-program-at-cgi-4128294552?position=21&pageNum=0&refId=WNqG6qB1QMjp%2F95GmXLvSA%3D%3D&trackingId=UXAZ6ArrCGwTqVvUrDkUFw%3D%3D',\n",
       " 'https://www.linkedin.com/jobs/view/software-developer-intern-summer-internship-program-at-cgi-4124963640?position=22&pageNum=0&refId=WNqG6qB1QMjp%2F95GmXLvSA%3D%3D&trackingId=y0jBX8%2FN661feC1SWwEvqg%3D%3D',\n",
       " 'https://www.linkedin.com/jobs/view/software-engineer-intern-at-visa-4142893564?position=23&pageNum=0&refId=WNqG6qB1QMjp%2F95GmXLvSA%3D%3D&trackingId=il0AOT8b6y1UaBwOICS9fg%3D%3D',\n",
       " 'https://www.linkedin.com/jobs/view/internship-software-engineer-at-dassault-syst%C3%A8mes-4145426203?position=24&pageNum=0&refId=WNqG6qB1QMjp%2F95GmXLvSA%3D%3D&trackingId=mx5I%2Bi0PItgxocnZEEKp0Q%3D%3D',\n",
       " 'https://www.linkedin.com/jobs/view/software-development-engineer-intern-specialized-co-op-summer-2025-us-at-amazon-4111737971?position=25&pageNum=0&refId=WNqG6qB1QMjp%2F95GmXLvSA%3D%3D&trackingId=8GiFDuIxpHxvLu5I3oFQsw%3D%3D',\n",
       " 'https://www.linkedin.com/jobs/view/software-development-engineer-intern-specialized-co-op-summer-2025-us-at-amazon-4111738895?position=26&pageNum=0&refId=WNqG6qB1QMjp%2F95GmXLvSA%3D%3D&trackingId=OU9itOz4gxiuOLM5H5n%2FXw%3D%3D',\n",
       " 'https://www.linkedin.com/jobs/view/software-engineering-intern-summer-2025-at-foray-bioscience-4142047333?position=27&pageNum=0&refId=WNqG6qB1QMjp%2F95GmXLvSA%3D%3D&trackingId=A%2BH5yx5e91zZF5cAa3SneA%3D%3D',\n",
       " 'https://www.linkedin.com/jobs/view/ai-software-engineer-intern-summer-2025-at-lenovo-4147215627?position=28&pageNum=0&refId=WNqG6qB1QMjp%2F95GmXLvSA%3D%3D&trackingId=PmIkChyPTrB2J7sswWsGwA%3D%3D',\n",
       " 'https://www.linkedin.com/jobs/view/software-engineer-summer-intern-at-telestream-llc-4144458070?position=29&pageNum=0&refId=WNqG6qB1QMjp%2F95GmXLvSA%3D%3D&trackingId=%2FN0j6pxtj2GMlzUBp2AyFw%3D%3D',\n",
       " 'https://www.linkedin.com/jobs/view/software-development-engineer-intern-2025-ai-ml-at-amazon-4076103728?position=30&pageNum=0&refId=WNqG6qB1QMjp%2F95GmXLvSA%3D%3D&trackingId=wpM%2Ft4lbtw3botvVYIFysg%3D%3D',\n",
       " 'https://www.linkedin.com/jobs/view/software-development-intern-summer-2025-at-bandwidth-inc-4082616131?position=31&pageNum=0&refId=WNqG6qB1QMjp%2F95GmXLvSA%3D%3D&trackingId=rQetOBRCqYDaPU9VQISIPQ%3D%3D',\n",
       " 'https://www.linkedin.com/jobs/view/software-engineering-intern-graduate-at-intel-corporation-4122623658?position=32&pageNum=0&refId=WNqG6qB1QMjp%2F95GmXLvSA%3D%3D&trackingId=TNZULV4ph7ws%2BH%2BtS6DBmw%3D%3D',\n",
       " 'https://www.linkedin.com/jobs/view/software-engineering-intern-graduate-at-intel-corporation-4122628201?position=33&pageNum=0&refId=WNqG6qB1QMjp%2F95GmXLvSA%3D%3D&trackingId=AyRsvCN%2BAFgyn5BlOKcdLg%3D%3D',\n",
       " 'https://www.linkedin.com/jobs/view/software-engineer-intern-at-intel-corporation-4145800506?position=34&pageNum=0&refId=WNqG6qB1QMjp%2F95GmXLvSA%3D%3D&trackingId=VdIDe7u5XjyhTeHzIh3nFw%3D%3D',\n",
       " 'https://www.linkedin.com/jobs/view/software-engineering-intern-at-isaca-4144724834?position=35&pageNum=0&refId=WNqG6qB1QMjp%2F95GmXLvSA%3D%3D&trackingId=r0Js8io8xtMbhMi2nqbWFA%3D%3D',\n",
       " 'https://www.linkedin.com/jobs/view/software-engineer-intern-at-elytra-robotics-4145207193?position=36&pageNum=0&refId=WNqG6qB1QMjp%2F95GmXLvSA%3D%3D&trackingId=XwsugAq%2FbbB5oGG5GHMEcQ%3D%3D',\n",
       " 'https://www.linkedin.com/jobs/view/summer-2025-intern-software-engineer-at-salesforce-4144613969?position=37&pageNum=0&refId=WNqG6qB1QMjp%2F95GmXLvSA%3D%3D&trackingId=dQPTA6E93fF0YG07ru5tcg%3D%3D',\n",
       " 'https://www.linkedin.com/jobs/view/software-engineer-intern-global-industries-at-oracle-4010192600?position=38&pageNum=0&refId=WNqG6qB1QMjp%2F95GmXLvSA%3D%3D&trackingId=7ZLABgasgwqBh4bRrlZT8Q%3D%3D',\n",
       " 'https://www.linkedin.com/jobs/view/paid-software-engineering-intern-summer-2025-at-rvo-health-4015506924?position=39&pageNum=0&refId=WNqG6qB1QMjp%2F95GmXLvSA%3D%3D&trackingId=AgSVN%2FvQD%2FCLHlU0KiyO6A%3D%3D',\n",
       " 'https://www.linkedin.com/jobs/view/software-development-intern-summer-2025-at-bandwidth-inc-4119350979?position=40&pageNum=0&refId=WNqG6qB1QMjp%2F95GmXLvSA%3D%3D&trackingId=ZCAWq7D6K47yTTVgZttUag%3D%3D',\n",
       " 'https://www.linkedin.com/jobs/view/summer-2025-intern-software-engineer-at-salesforce-4144619387?position=41&pageNum=0&refId=WNqG6qB1QMjp%2F95GmXLvSA%3D%3D&trackingId=oNyNqtFNn89E1ueTIrtzWA%3D%3D',\n",
       " 'https://www.linkedin.com/jobs/view/personal-systems-software-engineer-internship-at-hp-4022498265?position=42&pageNum=0&refId=WNqG6qB1QMjp%2F95GmXLvSA%3D%3D&trackingId=S73crMeNREF%2F%2FTF0rF7Epg%3D%3D',\n",
       " 'https://www.linkedin.com/jobs/view/summer-2025-intern-software-engineer-at-salesforce-4144620301?position=43&pageNum=0&refId=WNqG6qB1QMjp%2F95GmXLvSA%3D%3D&trackingId=wrnbqRZdkOxB4EwMmZy39w%3D%3D',\n",
       " 'https://www.linkedin.com/jobs/view/intern-software-engineering-summer-intern-at-nordson-corporation-4146195239?position=44&pageNum=0&refId=WNqG6qB1QMjp%2F95GmXLvSA%3D%3D&trackingId=CagoywC7AkBwjRWD5s8PMA%3D%3D',\n",
       " 'https://www.linkedin.com/jobs/view/intern-software-engineer-at-netapp-4145372687?position=45&pageNum=0&refId=WNqG6qB1QMjp%2F95GmXLvSA%3D%3D&trackingId=ZAbiZG3Ye16G9K7F86Yx%2BQ%3D%3D',\n",
       " 'https://www.linkedin.com/jobs/view/graduate-software-developer-intern-at-virtru-4146109620?position=46&pageNum=0&refId=WNqG6qB1QMjp%2F95GmXLvSA%3D%3D&trackingId=4ZXfzUaP74YQuziDtG9QwA%3D%3D',\n",
       " 'https://www.linkedin.com/jobs/view/intern-software-engineer-at-verint-4125219284?position=47&pageNum=0&refId=WNqG6qB1QMjp%2F95GmXLvSA%3D%3D&trackingId=Ua8SST%2F6vArRlnaoPkxS%2BQ%3D%3D',\n",
       " 'https://www.linkedin.com/jobs/view/software-engineer-i-intern-at-avathon-4144744269?position=48&pageNum=0&refId=WNqG6qB1QMjp%2F95GmXLvSA%3D%3D&trackingId=VPkJU6%2FgJl2G6BPWkR2mxQ%3D%3D',\n",
       " 'https://www.linkedin.com/jobs/view/software-engineering-intern-summer-2025-at-affirm-4120742852?position=49&pageNum=0&refId=WNqG6qB1QMjp%2F95GmXLvSA%3D%3D&trackingId=w3UE5PkwUCbXIusdd0tTrA%3D%3D',\n",
       " 'https://www.linkedin.com/jobs/view/summer-internship-program-2025-software-engineer-trading-web-applications-intern-at-ice-4072306410?position=50&pageNum=0&refId=WNqG6qB1QMjp%2F95GmXLvSA%3D%3D&trackingId=rjbOr8sXD0R7vfkejZV4jg%3D%3D',\n",
       " 'https://www.linkedin.com/jobs/view/summer-2025-software-engineer-intern-us-canada-at-whatnot-4082656848?position=51&pageNum=0&refId=WNqG6qB1QMjp%2F95GmXLvSA%3D%3D&trackingId=ZvO7KP3wvzRglqrAVr7MFA%3D%3D',\n",
       " 'https://www.linkedin.com/jobs/view/software-developer-intern-summer-internship-program-at-cgi-4143892685?position=52&pageNum=0&refId=WNqG6qB1QMjp%2F95GmXLvSA%3D%3D&trackingId=2Jprm%2BBS4NdbnDwEZh3ShQ%3D%3D',\n",
       " 'https://www.linkedin.com/jobs/view/software-development-engineer-intern-2025-ai-ml-at-amazon-4076106217?position=53&pageNum=0&refId=WNqG6qB1QMjp%2F95GmXLvSA%3D%3D&trackingId=9AjKq%2Brqcq9TjWnq07hAVA%3D%3D',\n",
       " 'https://www.linkedin.com/jobs/view/summer-2025-intern-software-engineer-at-salesforce-4144619385?position=54&pageNum=0&refId=WNqG6qB1QMjp%2F95GmXLvSA%3D%3D&trackingId=%2B2xDBvGi7YmK1erdozvqLA%3D%3D',\n",
       " 'https://www.linkedin.com/jobs/view/software-development-engineer-intern-2025-ai-ml-at-amazon-4076105479?position=55&pageNum=0&refId=WNqG6qB1QMjp%2F95GmXLvSA%3D%3D&trackingId=%2BBCOQ7uSfbPh116J%2Bo6PEg%3D%3D',\n",
       " 'https://www.linkedin.com/jobs/view/intern-software-engineering-at-smith-associates-4142042641?position=56&pageNum=0&refId=WNqG6qB1QMjp%2F95GmXLvSA%3D%3D&trackingId=tJtPZPCams5S1Nomm1SlOg%3D%3D',\n",
       " 'https://www.linkedin.com/jobs/view/summer-2025-intern-software-engineer-at-salesforce-4144619386?position=57&pageNum=0&refId=WNqG6qB1QMjp%2F95GmXLvSA%3D%3D&trackingId=KQ9Htv3w0w1prgNvsF4A7w%3D%3D',\n",
       " 'https://www.linkedin.com/jobs/view/software-engineer-intern-at-raven-industries-4091656871?position=58&pageNum=0&refId=WNqG6qB1QMjp%2F95GmXLvSA%3D%3D&trackingId=4kTFeweymoKNXKRE99HeCw%3D%3D',\n",
       " 'https://www.linkedin.com/jobs/view/summer-2025-intern-software-engineer-at-salesforce-4144621020?position=59&pageNum=0&refId=WNqG6qB1QMjp%2F95GmXLvSA%3D%3D&trackingId=Ah2OwJ3FqPJiW6lLRUz5ww%3D%3D',\n",
       " 'https://www.linkedin.com/jobs/view/software-development-engineer-intern-specialized-co-op-summer-2025-us-at-amazon-4111738895?position=1&pageNum=2&refId=DAmA6yAKHRQJpxtBODqj6A%3D%3D&trackingId=%2B0pJSsrSFIBP%2BzGqXaVW4Q%3D%3D',\n",
       " 'https://www.linkedin.com/jobs/view/software-engineering-intern-summer-2025-at-foray-bioscience-4142047333?position=2&pageNum=2&refId=DAmA6yAKHRQJpxtBODqj6A%3D%3D&trackingId=8%2FkZhX4t%2BXMMI5VNt%2FeimQ%3D%3D',\n",
       " 'https://www.linkedin.com/jobs/view/ai-software-engineer-intern-summer-2025-at-lenovo-4147215627?position=3&pageNum=2&refId=DAmA6yAKHRQJpxtBODqj6A%3D%3D&trackingId=tDdObs%2Fn57tOVjiBOjFBTw%3D%3D',\n",
       " 'https://www.linkedin.com/jobs/view/software-engineer-summer-intern-at-telestream-llc-4144458070?position=4&pageNum=2&refId=DAmA6yAKHRQJpxtBODqj6A%3D%3D&trackingId=fgay%2F4c9uAKiuEa4nLEBMQ%3D%3D',\n",
       " 'https://www.linkedin.com/jobs/view/software-development-engineer-intern-2025-ai-ml-at-amazon-4076103728?position=5&pageNum=2&refId=DAmA6yAKHRQJpxtBODqj6A%3D%3D&trackingId=YNPhiTkLSUdlwcIaVapbaw%3D%3D',\n",
       " 'https://www.linkedin.com/jobs/view/software-development-intern-summer-2025-at-bandwidth-inc-4082616131?position=6&pageNum=2&refId=DAmA6yAKHRQJpxtBODqj6A%3D%3D&trackingId=pbLVBrL1ARZU251BFikn8A%3D%3D',\n",
       " 'https://www.linkedin.com/jobs/view/software-engineering-intern-graduate-at-intel-corporation-4122623658?position=7&pageNum=2&refId=DAmA6yAKHRQJpxtBODqj6A%3D%3D&trackingId=XLgI%2F4Wnb7dE1rECGYcK%2Fw%3D%3D',\n",
       " 'https://www.linkedin.com/jobs/view/software-engineering-intern-graduate-at-intel-corporation-4122628201?position=8&pageNum=2&refId=DAmA6yAKHRQJpxtBODqj6A%3D%3D&trackingId=gAO%2BSnFsZmkFeCeldIaQuQ%3D%3D',\n",
       " 'https://www.linkedin.com/jobs/view/software-engineer-intern-at-intel-corporation-4145800506?position=9&pageNum=2&refId=DAmA6yAKHRQJpxtBODqj6A%3D%3D&trackingId=uUTId8FwU8WUdunCdyOHww%3D%3D',\n",
       " 'https://www.linkedin.com/jobs/view/software-engineering-intern-at-isaca-4144724834?position=10&pageNum=2&refId=DAmA6yAKHRQJpxtBODqj6A%3D%3D&trackingId=5gLlm9DP0xzLWV86DErP6w%3D%3D',\n",
       " 'https://www.linkedin.com/jobs/view/summer-internship-program-2025-software-engineer-trading-web-applications-intern-at-ice-4072306410?position=1&pageNum=5&refId=w64U8aTut%2BH%2Ff4U76sB4ug%3D%3D&trackingId=ttqELQwmpsmBhUevkFCZIg%3D%3D',\n",
       " 'https://www.linkedin.com/jobs/view/summer-2025-software-engineer-intern-us-canada-at-whatnot-4082656848?position=2&pageNum=5&refId=w64U8aTut%2BH%2Ff4U76sB4ug%3D%3D&trackingId=UE4od6CbPGlpJdXWv2MjcA%3D%3D',\n",
       " 'https://www.linkedin.com/jobs/view/software-developer-intern-summer-internship-program-at-cgi-4143892685?position=3&pageNum=5&refId=w64U8aTut%2BH%2Ff4U76sB4ug%3D%3D&trackingId=QIJiepFMPXDP9mJiY8PitQ%3D%3D',\n",
       " 'https://www.linkedin.com/jobs/view/software-development-engineer-intern-2025-ai-ml-at-amazon-4076106217?position=4&pageNum=5&refId=w64U8aTut%2BH%2Ff4U76sB4ug%3D%3D&trackingId=M89GJ7SZad8Ffb00jWZSfQ%3D%3D',\n",
       " 'https://www.linkedin.com/jobs/view/summer-2025-intern-software-engineer-at-salesforce-4144619385?position=5&pageNum=5&refId=w64U8aTut%2BH%2Ff4U76sB4ug%3D%3D&trackingId=hyZOnWP%2B6QKCOwYzinRkEA%3D%3D',\n",
       " 'https://www.linkedin.com/jobs/view/software-development-engineer-intern-2025-ai-ml-at-amazon-4076105479?position=6&pageNum=5&refId=w64U8aTut%2BH%2Ff4U76sB4ug%3D%3D&trackingId=jm8W8JP%2Bw8GQ%2BH6RxPC%2FEw%3D%3D',\n",
       " 'https://www.linkedin.com/jobs/view/intern-software-engineering-at-smith-associates-4142042641?position=7&pageNum=5&refId=w64U8aTut%2BH%2Ff4U76sB4ug%3D%3D&trackingId=5o6In8OUkVrNKsbLYU2T8w%3D%3D',\n",
       " 'https://www.linkedin.com/jobs/view/summer-2025-intern-software-engineer-at-salesforce-4144619386?position=8&pageNum=5&refId=w64U8aTut%2BH%2Ff4U76sB4ug%3D%3D&trackingId=HunYpUM9vs3ywi%2BuOa%2FwMA%3D%3D',\n",
       " 'https://www.linkedin.com/jobs/view/software-engineer-intern-at-raven-industries-4091656871?position=9&pageNum=5&refId=w64U8aTut%2BH%2Ff4U76sB4ug%3D%3D&trackingId=U7F9Zlk9dD1ZW%2BJCHFesyA%3D%3D',\n",
       " 'https://www.linkedin.com/jobs/view/summer-2025-intern-software-engineer-at-salesforce-4144621020?position=10&pageNum=5&refId=w64U8aTut%2BH%2Ff4U76sB4ug%3D%3D&trackingId=zGmv0S6rKwziKglEzVDnNw%3D%3D',\n",
       " 'https://www.linkedin.com/jobs/view/backend-software-engineering-intern-at-u-s-hunger-4145537520?position=1&pageNum=7&refId=hHd2rTIIvkv38yf0SvUgXQ%3D%3D&trackingId=ZF1S%2B0LbWSvxyy1%2F846s7g%3D%3D',\n",
       " 'https://www.linkedin.com/jobs/view/software-engineering-intern-at-werfen-4142042278?position=2&pageNum=7&refId=hHd2rTIIvkv38yf0SvUgXQ%3D%3D&trackingId=417kGhDn3uLYhNeS89Nw5w%3D%3D',\n",
       " 'https://www.linkedin.com/jobs/view/software-engineer-intern-at-convergent-research-4132933102?position=3&pageNum=7&refId=hHd2rTIIvkv38yf0SvUgXQ%3D%3D&trackingId=KwuQV4qcZ7iLESfsIXqE8A%3D%3D',\n",
       " 'https://www.linkedin.com/jobs/view/intern-software-engineer-at-netapp-4145372686?position=4&pageNum=7&refId=hHd2rTIIvkv38yf0SvUgXQ%3D%3D&trackingId=74COI5mTMMiwPt%2FbTAhSag%3D%3D',\n",
       " 'https://www.linkedin.com/jobs/view/intern-embedded-software-engineer-bothell-wa-summer-2025-at-philips-4142559573?position=5&pageNum=7&refId=hHd2rTIIvkv38yf0SvUgXQ%3D%3D&trackingId=0Bn4yKmdODG%2BGtUitknDig%3D%3D',\n",
       " 'https://www.linkedin.com/jobs/view/software-engineering-intern-at-relias-4144961830?position=6&pageNum=7&refId=hHd2rTIIvkv38yf0SvUgXQ%3D%3D&trackingId=5%2FJlHhdczeriNASsMDGeBw%3D%3D',\n",
       " 'https://www.linkedin.com/jobs/view/software-engineering-intern-at-first-american-4143063241?position=7&pageNum=7&refId=hHd2rTIIvkv38yf0SvUgXQ%3D%3D&trackingId=SY%2Bex6ntCZwZj%2BoyIo1fVQ%3D%3D',\n",
       " 'https://www.linkedin.com/jobs/view/sde-intern-summer-software-and-networking-developer-sdn-at-amazon-4143245408?position=8&pageNum=7&refId=hHd2rTIIvkv38yf0SvUgXQ%3D%3D&trackingId=2Jxp6lVsTBCT5JvPWEpYTA%3D%3D',\n",
       " 'https://www.linkedin.com/jobs/view/software-engineer-2025-summer-intern-at-sabre-corporation-4081051156?position=9&pageNum=7&refId=hHd2rTIIvkv38yf0SvUgXQ%3D%3D&trackingId=DCm%2FKD6bTfSe58yhxpd4Ow%3D%3D',\n",
       " 'https://www.linkedin.com/jobs/view/software-engineering-intern-embedded-software-autonomy-at-rivian-4143714052?position=10&pageNum=7&refId=hHd2rTIIvkv38yf0SvUgXQ%3D%3D&trackingId=6ZyYHgbeONZLDRv37JQF2A%3D%3D',\n",
       " 'https://www.linkedin.com/jobs/view/software-engineering-intern-at-astronautics-corporation-of-america-4145115886?position=1&pageNum=10&refId=unv6jF%2BfJNwUstkus9UF%2FA%3D%3D&trackingId=3mjYSaJE5838M4XX%2F7BWNQ%3D%3D',\n",
       " 'https://www.linkedin.com/jobs/view/2025-summer-intern-software-engineer-at-spectrum-4019851385?position=2&pageNum=10&refId=unv6jF%2BfJNwUstkus9UF%2FA%3D%3D&trackingId=csh0sC5dFYr3w5K0039%2BMQ%3D%3D',\n",
       " 'https://www.linkedin.com/jobs/view/2025-software-engineering-genai-summer-intern-100%25-remote-in-us-only%21-at-radian-4074368262?position=3&pageNum=10&refId=unv6jF%2BfJNwUstkus9UF%2FA%3D%3D&trackingId=wrdw5jzsJbUFC0Dy86473w%3D%3D',\n",
       " 'https://www.linkedin.com/jobs/view/software-engineer-intern-data-platform-big-data-2025-summer-fall-ms-at-tiktok-4091308137?position=4&pageNum=10&refId=unv6jF%2BfJNwUstkus9UF%2FA%3D%3D&trackingId=k9%2Fv7RCj69elL0mkU4iihg%3D%3D',\n",
       " 'https://www.linkedin.com/jobs/view/flight-software-engineer-intern-summer-winter-2025-at-turion-space-4149211699?position=5&pageNum=10&refId=unv6jF%2BfJNwUstkus9UF%2FA%3D%3D&trackingId=WiOxWZDQ4eZIK7fA0cMk2g%3D%3D',\n",
       " 'https://www.linkedin.com/jobs/view/software-engineer-intern-web-development-at-garmin-4145191755?position=6&pageNum=10&refId=unv6jF%2BfJNwUstkus9UF%2FA%3D%3D&trackingId=aEYd6Bv4rZj6NaY%2FPsMx4g%3D%3D',\n",
       " 'https://www.linkedin.com/jobs/view/software-engineering-intern-at-werfen-4142040496?position=7&pageNum=10&refId=unv6jF%2BfJNwUstkus9UF%2FA%3D%3D&trackingId=nPIz8NAOilJW0N3p9xLTBg%3D%3D',\n",
       " 'https://www.linkedin.com/jobs/view/software-systems-engineering-intern-summer-2025-isr-at-voyager-technologies-4143962695?position=8&pageNum=10&refId=unv6jF%2BfJNwUstkus9UF%2FA%3D%3D&trackingId=8uTuXBgwyk8Rwrhdn%2BaeFA%3D%3D',\n",
       " 'https://www.linkedin.com/jobs/view/software-engineering-intern-at-aptiv-4145175650?position=9&pageNum=10&refId=unv6jF%2BfJNwUstkus9UF%2FA%3D%3D&trackingId=%2Bmn5LxjvFo4CR8Y%2BtmyF9Q%3D%3D',\n",
       " 'https://www.linkedin.com/jobs/view/software-applications-intern-at-telos-health-4144073914?position=10&pageNum=10&refId=unv6jF%2BfJNwUstkus9UF%2FA%3D%3D&trackingId=asD5%2BfgoRQgakpty1uufJw%3D%3D',\n",
       " 'https://www.linkedin.com/jobs/view/software-engineering-intern-bachelor-s-at-intel-corporation-4122628200?position=1&pageNum=12&refId=pYi7BgcCwU6XRpr%2F2N87fw%3D%3D&trackingId=TfAM2rA975UKrClmJ5R61w%3D%3D',\n",
       " 'https://www.linkedin.com/jobs/view/intern-ii-software-developer-engineering-at-dexcom-4117085832?position=2&pageNum=12&refId=pYi7BgcCwU6XRpr%2F2N87fw%3D%3D&trackingId=YdjA1HjxiCgCSVeTbSQseQ%3D%3D',\n",
       " 'https://www.linkedin.com/jobs/view/software-engineer-intern-data-bp-2025-summer-fall-ms-at-tiktok-4076506997?position=3&pageNum=12&refId=pYi7BgcCwU6XRpr%2F2N87fw%3D%3D&trackingId=CV8q55kbMejKb%2FJabymUEA%3D%3D',\n",
       " 'https://www.linkedin.com/jobs/view/software-engineer-intern-video-at-gamechanger-4144421018?position=4&pageNum=12&refId=pYi7BgcCwU6XRpr%2F2N87fw%3D%3D&trackingId=UkGiqGBcN7pxjPNQVczo0w%3D%3D',\n",
       " 'https://www.linkedin.com/jobs/view/software-development-intern-summer-2025-at-abb-4146403389?position=5&pageNum=12&refId=pYi7BgcCwU6XRpr%2F2N87fw%3D%3D&trackingId=Z6Xjm%2FsP2tyNv89JNa%2BOLw%3D%3D',\n",
       " 'https://www.linkedin.com/jobs/view/intern-software-engineer-at-itron-inc-4144032385?position=6&pageNum=12&refId=pYi7BgcCwU6XRpr%2F2N87fw%3D%3D&trackingId=pXhhn4Z%2BlNBMJne75I29wQ%3D%3D',\n",
       " 'https://www.linkedin.com/jobs/view/2025-software-developer-intern-at-becu-4142954139?position=7&pageNum=12&refId=pYi7BgcCwU6XRpr%2F2N87fw%3D%3D&trackingId=xzHqFpEGAYJhdlGRzTEMgQ%3D%3D',\n",
       " 'https://www.linkedin.com/jobs/view/software-engineering-intern-at-maximus-4145168766?position=8&pageNum=12&refId=pYi7BgcCwU6XRpr%2F2N87fw%3D%3D&trackingId=E22FMYinVZzrnI2%2FBF9Cfg%3D%3D',\n",
       " 'https://www.linkedin.com/jobs/view/software-engineering-intern-at-aptiv-4145177343?position=9&pageNum=12&refId=pYi7BgcCwU6XRpr%2F2N87fw%3D%3D&trackingId=BcxXkzjiQjq5le3YwGyzBA%3D%3D',\n",
       " 'https://www.linkedin.com/jobs/view/summer-intern-software-engineer-at-harman-professional-solutions-4144801565?position=10&pageNum=12&refId=pYi7BgcCwU6XRpr%2F2N87fw%3D%3D&trackingId=U66b9Cyhj2e4%2BaMvzIIvZg%3D%3D',\n",
       " 'https://www.linkedin.com/jobs/view/software-engineering-intern-at-emerson-4143676742?position=1&pageNum=15&refId=SqLDULtmynKpKOypXdZGKA%3D%3D&trackingId=Z%2BD7RA4LiQEx8psVSLXZgQ%3D%3D',\n",
       " 'https://www.linkedin.com/jobs/view/it-software-engineering-summer-intern-2025b-at-john-deere-4106275405?position=2&pageNum=15&refId=SqLDULtmynKpKOypXdZGKA%3D%3D&trackingId=dqj4OLR1IrXK2JhNDALLnA%3D%3D',\n",
       " 'https://www.linkedin.com/jobs/view/intern-software-engineering-fargo-at-dynon-avionics-4145455871?position=3&pageNum=15&refId=SqLDULtmynKpKOypXdZGKA%3D%3D&trackingId=O6btoe65BXrpAnRjtmaYtg%3D%3D',\n",
       " 'https://www.linkedin.com/jobs/view/software-engineering-intern-at-copart-4143686616?position=4&pageNum=15&refId=SqLDULtmynKpKOypXdZGKA%3D%3D&trackingId=9vYbtHt1WuFNlPeRZq4ufA%3D%3D',\n",
       " 'https://www.linkedin.com/jobs/view/software-engineer-intern-summer-2025-at-cobank-4143567273?position=5&pageNum=15&refId=SqLDULtmynKpKOypXdZGKA%3D%3D&trackingId=4Nx%2B4d1DPeFOqGBLP3A%2Fqw%3D%3D',\n",
       " 'https://www.linkedin.com/jobs/view/software-engineering-intern-at-applovin-4144760167?position=6&pageNum=15&refId=SqLDULtmynKpKOypXdZGKA%3D%3D&trackingId=QTOfJlQa%2FYg8ap358FWK%2BQ%3D%3D',\n",
       " 'https://www.linkedin.com/jobs/view/ai-software-engineering-intern-at-proofmap-4144838712?position=7&pageNum=15&refId=SqLDULtmynKpKOypXdZGKA%3D%3D&trackingId=Y15xEkUPUd0Doyq23aNyfw%3D%3D',\n",
       " 'https://www.linkedin.com/jobs/view/2025-software-developer-intern-at-becu-4142949844?position=8&pageNum=15&refId=SqLDULtmynKpKOypXdZGKA%3D%3D&trackingId=DsTjkypVxCg9LkRixEUiOg%3D%3D',\n",
       " 'https://www.linkedin.com/jobs/view/summer-intern-software-engineer-at-harman-international-4136818298?position=9&pageNum=15&refId=SqLDULtmynKpKOypXdZGKA%3D%3D&trackingId=2u87y47M3W7A7T%2BPvZcvRg%3D%3D',\n",
       " 'https://www.linkedin.com/jobs/view/software-engineering-intern-bachelor-s-at-intel-corporation-4122621946?position=10&pageNum=15&refId=SqLDULtmynKpKOypXdZGKA%3D%3D&trackingId=eA5jl2Yq1nqFH7w186PI6Q%3D%3D',\n",
       " 'https://www.linkedin.com/jobs/view/summer-intern-embedded-software-engineer-at-harman-professional-solutions-4144804090?position=1&pageNum=17&refId=UY7cXG4oNRIvxmL%2FotW9Ww%3D%3D&trackingId=PUDIw86Ky0i%2BGm7LR7aKGw%3D%3D',\n",
       " 'https://www.linkedin.com/jobs/view/software-engineer-intern-at-university-of-utah-4146657449?position=2&pageNum=17&refId=UY7cXG4oNRIvxmL%2FotW9Ww%3D%3D&trackingId=w%2B4%2B9BZd1bMvIvfPfY2hzQ%3D%3D',\n",
       " 'https://www.linkedin.com/jobs/view/ml-ai-software-engineering-intern-asm-at-censys-4146028000?position=3&pageNum=17&refId=UY7cXG4oNRIvxmL%2FotW9Ww%3D%3D&trackingId=gLIDlQRKd9KFROBC0ui8WQ%3D%3D',\n",
       " 'https://www.linkedin.com/jobs/view/ai-ml-software-engineering-intern-search-at-censys-4145174506?position=4&pageNum=17&refId=UY7cXG4oNRIvxmL%2FotW9Ww%3D%3D&trackingId=A8q9RolfhYl9744T67cwkg%3D%3D',\n",
       " 'https://www.linkedin.com/jobs/view/software-engineering-it-intern-summer-2025-at-jewelers-mutual-group-4126149177?position=5&pageNum=17&refId=UY7cXG4oNRIvxmL%2FotW9Ww%3D%3D&trackingId=7uvF3ueH2fBwNc1w0vpGRg%3D%3D',\n",
       " 'https://www.linkedin.com/jobs/view/software-engineering-intern-at-westinghouse-electric-company-4147809758?position=6&pageNum=17&refId=UY7cXG4oNRIvxmL%2FotW9Ww%3D%3D&trackingId=WtAhaKNZ5WpAZECtCQ4vrg%3D%3D',\n",
       " 'https://www.linkedin.com/jobs/view/2025-software-developer-intern-at-becu-4142949845?position=7&pageNum=17&refId=UY7cXG4oNRIvxmL%2FotW9Ww%3D%3D&trackingId=wzFemySqEi3MgjrfUxAp%2BQ%3D%3D',\n",
       " 'https://www.linkedin.com/jobs/view/2025-summer-intern-software-engineer-bachelor-s-degree-at-applied-materials-4060162708?position=8&pageNum=17&refId=UY7cXG4oNRIvxmL%2FotW9Ww%3D%3D&trackingId=smF1BrLPmOooDiiT0bp9jw%3D%3D',\n",
       " 'https://www.linkedin.com/jobs/view/software-engineering-intern-arene-sdk-at-woven-by-toyota-4126232171?position=9&pageNum=17&refId=UY7cXG4oNRIvxmL%2FotW9Ww%3D%3D&trackingId=KzCBG87ZN4LSgdyrK%2BU0Yg%3D%3D',\n",
       " 'https://www.linkedin.com/jobs/view/software-intern-at-cadence-4143709132?position=10&pageNum=17&refId=UY7cXG4oNRIvxmL%2FotW9Ww%3D%3D&trackingId=Bfc%2BZdqQNdR9THfd5Oh7QA%3D%3D',\n",
       " 'https://www.linkedin.com/jobs/view/software-engineer-intern-at-booz-allen-hamilton-4149237490?position=1&pageNum=20&refId=veFoHoxXito66DnzNrFOZA%3D%3D&trackingId=O3um8xisK8cdo6ADTbwPqw%3D%3D',\n",
       " 'https://www.linkedin.com/jobs/view/embedded-software-intern-at-brunswick-corporation-4143544787?position=2&pageNum=20&refId=veFoHoxXito66DnzNrFOZA%3D%3D&trackingId=1x50w%2BUMV2tHwGQMd2FGEQ%3D%3D',\n",
       " 'https://www.linkedin.com/jobs/view/summer-internship-2025-software-data-engineering-at-paccar-technical-center-4053903039?position=3&pageNum=20&refId=veFoHoxXito66DnzNrFOZA%3D%3D&trackingId=w39YSCP6cb3iOKIBChp23g%3D%3D',\n",
       " 'https://www.linkedin.com/jobs/view/summer-intern-software-engineer-at-harman-international-4142044692?position=4&pageNum=20&refId=veFoHoxXito66DnzNrFOZA%3D%3D&trackingId=Yrq8ia0aY6ecS63A%2BwTlUw%3D%3D',\n",
       " 'https://www.linkedin.com/jobs/view/intern-software-development-for-systems-engineering-at-somos-inc-4143563770?position=5&pageNum=20&refId=veFoHoxXito66DnzNrFOZA%3D%3D&trackingId=TTOd%2Fn79iGDYcVFMfZBVkg%3D%3D',\n",
       " 'https://www.linkedin.com/jobs/view/jr-software-development-engineer-seattle-at-amazon-4082076518?position=6&pageNum=20&refId=veFoHoxXito66DnzNrFOZA%3D%3D&trackingId=c1TC6VcptBPxkjiSZCJhfw%3D%3D',\n",
       " 'https://www.linkedin.com/jobs/view/frontend-software-engineer-intern-pdi-csp-fe-i18n-2025-summer-bs-ms-at-bytedance-4119017943?position=7&pageNum=20&refId=veFoHoxXito66DnzNrFOZA%3D%3D&trackingId=H0bOFuCnLiWc7%2Fdqjf5Hrg%3D%3D',\n",
       " 'https://www.linkedin.com/jobs/view/software-engineer-ai-ml-intern-at-kla-4123114887?position=8&pageNum=20&refId=veFoHoxXito66DnzNrFOZA%3D%3D&trackingId=nZfX%2FSVKcZm2VC5g5IcbnQ%3D%3D',\n",
       " 'https://www.linkedin.com/jobs/view/embedded-software-intern-at-fluke-corporation-4146491353?position=9&pageNum=20&refId=veFoHoxXito66DnzNrFOZA%3D%3D&trackingId=JToA5QLrvEJL4%2FCLusNKTA%3D%3D',\n",
       " 'https://www.linkedin.com/jobs/view/intern-software-developer-at-unitypoint-health-4142390352?position=10&pageNum=20&refId=veFoHoxXito66DnzNrFOZA%3D%3D&trackingId=2kbJ5ysaKlDagg3IgArAuw%3D%3D',\n",
       " 'https://www.linkedin.com/jobs/view/scenario-automation-software-engineer-intern-at-zoox-4120259915?position=1&pageNum=22&refId=W9dkFUkrKe3UVtmP121jXw%3D%3D&trackingId=YZyIyan8HKR9e%2B4GnBhAWg%3D%3D',\n",
       " 'https://www.linkedin.com/jobs/view/software-engineering-intern-customer-digital-experience-2025-summer-internship-at-healthfirst-4140210878?position=2&pageNum=22&refId=W9dkFUkrKe3UVtmP121jXw%3D%3D&trackingId=MtG5bjjGnmErXX30oDzKbQ%3D%3D',\n",
       " 'https://www.linkedin.com/jobs/view/ai-ml-system-software-intern-at-intel-corporation-4142345951?position=3&pageNum=22&refId=W9dkFUkrKe3UVtmP121jXw%3D%3D&trackingId=lBqWF4jN78cW0BRju1w01A%3D%3D',\n",
       " 'https://www.linkedin.com/jobs/view/general-hire-software-engineer-intern-usds-2025-summer-bs-ms-at-tiktok-4076504243?position=4&pageNum=22&refId=W9dkFUkrKe3UVtmP121jXw%3D%3D&trackingId=eXNT8T5ud5F660AWdnMCFw%3D%3D',\n",
       " 'https://www.linkedin.com/jobs/view/svg-software-intern-summer-2025-at-cadence-4145233538?position=5&pageNum=22&refId=W9dkFUkrKe3UVtmP121jXw%3D%3D&trackingId=RT7YjDFh%2Fi4tgGDV7qt3RQ%3D%3D',\n",
       " 'https://www.linkedin.com/jobs/view/software-development-test-engineer-intern-monetization-technology-ads-quality-measurement-2025-project-intern-bs-ms-at-tiktok-4102653028?position=6&pageNum=22&refId=W9dkFUkrKe3UVtmP121jXw%3D%3D&trackingId=tf5obD9fV4P94qsiBMzsoQ%3D%3D',\n",
       " 'https://www.linkedin.com/jobs/view/it-apps-software-engineer-i-intern-at-trinidad-benham-4143534277?position=7&pageNum=22&refId=W9dkFUkrKe3UVtmP121jXw%3D%3D&trackingId=YrveXZF9%2BsFH%2FBqEJDstIA%3D%3D',\n",
       " 'https://www.linkedin.com/jobs/view/neb-software-developer-intern-at-nreca-4145815109?position=8&pageNum=22&refId=W9dkFUkrKe3UVtmP121jXw%3D%3D&trackingId=qH5GCwk1%2BXroNofn19ELDQ%3D%3D',\n",
       " 'https://www.linkedin.com/jobs/view/software-engineer-intern-at-teledyne-brown-engineering-4142023764?position=9&pageNum=22&refId=W9dkFUkrKe3UVtmP121jXw%3D%3D&trackingId=7s9UReMJ%2BhvyWyMMYaFjAg%3D%3D',\n",
       " 'https://www.linkedin.com/jobs/view/learning-development-intern-software-engineering-at-smith-associates-4142041798?position=10&pageNum=22&refId=W9dkFUkrKe3UVtmP121jXw%3D%3D&trackingId=A%2B4h0DpXa86QMutMTBDSpQ%3D%3D',\n",
       " 'https://www.linkedin.com/jobs/view/software-r-d-rotational-intern-program-software-engineer-intern-at-dematic-4142076318?position=1&pageNum=25&refId=GOkaBN51QZGj0C3hr5889Q%3D%3D&trackingId=dATMss3IJV6VTdM%2FVXoZyQ%3D%3D',\n",
       " 'https://www.linkedin.com/jobs/view/software-engineer-intern-doubao-seed-machine-learning-system-2025-summer-phd-at-bytedance-4078783849?position=2&pageNum=25&refId=GOkaBN51QZGj0C3hr5889Q%3D%3D&trackingId=7%2FM%2F99XwFnlA4DlVs5pLAA%3D%3D',\n",
       " 'https://www.linkedin.com/jobs/view/software-intern-hpc-infrastructure-at-kla-4063219361?position=3&pageNum=25&refId=GOkaBN51QZGj0C3hr5889Q%3D%3D&trackingId=9SDoHUm01vse5CTAAZZEuw%3D%3D',\n",
       " 'https://www.linkedin.com/jobs/view/atlas-software-intern-at-windborne-systems-4147211728?position=4&pageNum=25&refId=GOkaBN51QZGj0C3hr5889Q%3D%3D&trackingId=fn2wWJAjj4t171IrPRUXtw%3D%3D',\n",
       " 'https://www.linkedin.com/jobs/view/software-engineer-summer-intern-shared-user-services-at-pegasystems-4146733399?position=5&pageNum=25&refId=GOkaBN51QZGj0C3hr5889Q%3D%3D&trackingId=dGf444zuFTmimRJHKLbnsw%3D%3D',\n",
       " 'https://www.linkedin.com/jobs/view/software-engineering-and-data-intern-hybrid-3-days-in-office-at-freddie-mac-4102584855?position=6&pageNum=25&refId=GOkaBN51QZGj0C3hr5889Q%3D%3D&trackingId=yma0KH3ns12E3MwrY8rqnQ%3D%3D',\n",
       " 'https://www.linkedin.com/jobs/view/2025-small-satellite-embedded-software-graduate-intern-at-the-aerospace-corporation-4142775722?position=7&pageNum=25&refId=GOkaBN51QZGj0C3hr5889Q%3D%3D&trackingId=MhBvoyO2Va%2BKXY70Cf06LQ%3D%3D',\n",
       " 'https://www.linkedin.com/jobs/view/jr-software-development-engineer-detroit-at-amazon-4079850111?position=8&pageNum=25&refId=GOkaBN51QZGj0C3hr5889Q%3D%3D&trackingId=BQu4VWwxbmdXrNILji9geA%3D%3D',\n",
       " 'https://www.linkedin.com/jobs/view/software-engineer-intern-data-technical-infrastructures-iaas-us-2025-summer-phd-at-bytedance-4078788192?position=9&pageNum=25&refId=GOkaBN51QZGj0C3hr5889Q%3D%3D&trackingId=Fho%2Bt2z2LXdnPKY22gMIXw%3D%3D',\n",
       " 'https://www.linkedin.com/jobs/view/software-validation-intern-summer-2025-at-zipline-4100924985?position=10&pageNum=25&refId=GOkaBN51QZGj0C3hr5889Q%3D%3D&trackingId=yScjYixFijfFDwEMt1jbSg%3D%3D',\n",
       " 'https://www.linkedin.com/jobs/view/software-qa-engineer-intern-at-proofpoint-4144440896?position=1&pageNum=27&refId=GAhWSse0RrZGGJuMVoFwwQ%3D%3D&trackingId=96Vv7CAIfbbK9lXwkZA3pg%3D%3D',\n",
       " 'https://www.linkedin.com/jobs/view/flight-controls-software-engineering-intern-at-archer-4148873177?position=2&pageNum=27&refId=GAhWSse0RrZGGJuMVoFwwQ%3D%3D&trackingId=epCvPfKk%2B%2FoN2LJJlTO0Kw%3D%3D',\n",
       " 'https://www.linkedin.com/jobs/view/software-quality-assurance-tester-intern-co-at-gaming-laboratories-international-llc-4130373260?position=3&pageNum=27&refId=GAhWSse0RrZGGJuMVoFwwQ%3D%3D&trackingId=Y0Vg5VcYwBVzhE0SB4TYRQ%3D%3D',\n",
       " 'https://www.linkedin.com/jobs/view/embedded-software-engineering-intern-at-purdue-university-at-jlg-industries-4146380432?position=4&pageNum=27&refId=GAhWSse0RrZGGJuMVoFwwQ%3D%3D&trackingId=oJsXQnZd9bizT6Sj3yipuw%3D%3D',\n",
       " 'https://www.linkedin.com/jobs/view/software-test-engineering-intern-at-resmed-4144715935?position=5&pageNum=27&refId=GAhWSse0RrZGGJuMVoFwwQ%3D%3D&trackingId=kPjhqAmMcBiF3NLq4NoFtw%3D%3D',\n",
       " 'https://www.linkedin.com/jobs/view/devops-engineer-flight-software-intern-summer-2025-at-astranis-space-technologies-4064761933?position=6&pageNum=27&refId=GAhWSse0RrZGGJuMVoFwwQ%3D%3D&trackingId=mWDGPendpxkWIeaP0rGkYQ%3D%3D',\n",
       " 'https://www.linkedin.com/jobs/view/software-application-operational-analytics-intern-at-hexagon-asset-lifecycle-intelligence-4117445165?position=7&pageNum=27&refId=GAhWSse0RrZGGJuMVoFwwQ%3D%3D&trackingId=PxTjUghVl0B2Fp%2FMDDyHnw%3D%3D',\n",
       " 'https://www.linkedin.com/jobs/view/intern-devops-software-engineering-spring-2025-at-early-warning%C2%AE-4028787223?position=8&pageNum=27&refId=GAhWSse0RrZGGJuMVoFwwQ%3D%3D&trackingId=Kf6lKRvDE4sRi27wzSTGfQ%3D%3D',\n",
       " 'https://www.linkedin.com/jobs/view/software-test-engineering-intern-at-daikin-applied-americas-4141406310?position=9&pageNum=27&refId=GAhWSse0RrZGGJuMVoFwwQ%3D%3D&trackingId=9eUHjnWnc1mCnruTYfwwBA%3D%3D',\n",
       " 'https://www.linkedin.com/jobs/view/customer-software-development-intern-at-motion-4145987649?position=10&pageNum=27&refId=GAhWSse0RrZGGJuMVoFwwQ%3D%3D&trackingId=oMqS6YL19aUV%2Bw%2B5DYM%2BZA%3D%3D',\n",
       " 'https://www.linkedin.com/jobs/view/scientific-software-development-intern-mixed-solvent-molecular-dynamics-at-schr%C3%B6dinger-4149149780?position=1&pageNum=30&refId=ewH%2FmM7FMICYTSGhKLYZZQ%3D%3D&trackingId=I8ASl5WpbY3gjJ6hajZn0g%3D%3D',\n",
       " 'https://www.linkedin.com/jobs/view/technical-intern-1-software-support-at-ara-4102076145?position=2&pageNum=30&refId=ewH%2FmM7FMICYTSGhKLYZZQ%3D%3D&trackingId=Z84jCYxHZ%2FVHxnRmCA3a9g%3D%3D',\n",
       " 'https://www.linkedin.com/jobs/view/software-engineer-c2bmc-25-003-r10182143-at-northrop-grumman-4147734146?position=3&pageNum=30&refId=ewH%2FmM7FMICYTSGhKLYZZQ%3D%3D&trackingId=l6ECRzHfBnetREC2SvyjaA%3D%3D',\n",
       " 'https://www.linkedin.com/jobs/view/rubrik-software-engineering-intern-summer-2025-application-via-ripplematch-at-ripplematch-4143545485?position=4&pageNum=30&refId=ewH%2FmM7FMICYTSGhKLYZZQ%3D%3D&trackingId=k0oO9uSF%2BIkXQrzeDbiJaw%3D%3D',\n",
       " 'https://www.linkedin.com/jobs/view/software-engineer-intern-application-via-ripplematch-at-ripplematch-4145712682?position=5&pageNum=30&refId=ewH%2FmM7FMICYTSGhKLYZZQ%3D%3D&trackingId=3w43Ae%2Buc7V%2BLBfH4la9tw%3D%3D',\n",
       " 'https://www.linkedin.com/jobs/view/software-engineer-intern-application-via-ripplematch-at-ripplematch-4145712678?position=6&pageNum=30&refId=ewH%2FmM7FMICYTSGhKLYZZQ%3D%3D&trackingId=7Hpk%2FtyL8TNROwJjZvosOA%3D%3D',\n",
       " 'https://www.linkedin.com/jobs/view/software-engineer-intern-application-via-ripplematch-at-ripplematch-4145907496?position=7&pageNum=30&refId=ewH%2FmM7FMICYTSGhKLYZZQ%3D%3D&trackingId=W8rPtN8LCSNcplRx7pcPlg%3D%3D',\n",
       " 'https://www.linkedin.com/jobs/view/software-engineer-intern-application-via-ripplematch-at-ripplematch-4145908470?position=8&pageNum=30&refId=ewH%2FmM7FMICYTSGhKLYZZQ%3D%3D&trackingId=xOYkd9QYZEE7Mvs7th3BVA%3D%3D',\n",
       " 'https://www.linkedin.com/jobs/view/2025-phd-software-engineer-intern-compute-foundations-united-states-at-uber-4143846686?position=9&pageNum=30&refId=ewH%2FmM7FMICYTSGhKLYZZQ%3D%3D&trackingId=zpYymMaKVMsqirAo6%2BVTSQ%3D%3D',\n",
       " 'https://www.linkedin.com/jobs/view/software-engineer-intern-application-via-ripplematch-at-ripplematch-4145709898?position=10&pageNum=30&refId=ewH%2FmM7FMICYTSGhKLYZZQ%3D%3D&trackingId=S4LmUFDebhzoIahn%2B9y4Zg%3D%3D',\n",
       " 'https://www.linkedin.com/jobs/view/mechanical-engineer-summer-intern-at-syska-hennessy-group-4099128747?position=1&pageNum=32&refId=evWCedQkFWi0QY220kymJg%3D%3D&trackingId=Y5Mjoy5ZNEeQl9U1zklxFA%3D%3D',\n",
       " 'https://www.linkedin.com/jobs/view/manufacturing-engineer-intern-at-wenger-corporation-4138242911?position=2&pageNum=32&refId=evWCedQkFWi0QY220kymJg%3D%3D&trackingId=hXmKO9wJTozHWMBxXaWfXw%3D%3D',\n",
       " 'https://www.linkedin.com/jobs/view/supply-chain-engineering-internship-at-hp-4019030513?position=3&pageNum=32&refId=evWCedQkFWi0QY220kymJg%3D%3D&trackingId=hcBesqgXbUfM7tcO3soU6g%3D%3D',\n",
       " 'https://www.linkedin.com/jobs/view/requirements-systems-engineer-at-peraton-4118183117?position=4&pageNum=32&refId=evWCedQkFWi0QY220kymJg%3D%3D&trackingId=pn6zGuMf6I3Gv5e545jaew%3D%3D',\n",
       " 'https://www.linkedin.com/jobs/view/entry-level-engineer-water-resources-engineering-at-jones-edmunds-4125130865?position=5&pageNum=32&refId=evWCedQkFWi0QY220kymJg%3D%3D&trackingId=%2F0%2FTh%2BkFonmoyyiovlnXlQ%3D%3D',\n",
       " 'https://www.linkedin.com/jobs/view/principal-software-engineer-gui-c2bmc-25-005-r10185368-at-northrop-grumman-4147510390?position=6&pageNum=32&refId=evWCedQkFWi0QY220kymJg%3D%3D&trackingId=zsA9mdMs1jQzlYgEvQUDag%3D%3D',\n",
       " 'https://www.linkedin.com/jobs/view/talent-and-learning-intern-at-hp-4065515189?position=7&pageNum=32&refId=evWCedQkFWi0QY220kymJg%3D%3D&trackingId=m1vkisQcfi8lrPZ8%2FcsOSQ%3D%3D',\n",
       " 'https://www.linkedin.com/jobs/view/workforce-services-and-solutions-technical-internship-at-hp-4091123132?position=8&pageNum=32&refId=evWCedQkFWi0QY220kymJg%3D%3D&trackingId=2Kb8Gq8vbnkL3LjBoPY6qw%3D%3D',\n",
       " 'https://www.linkedin.com/jobs/view/mechanical-electrical-electronic-engineer-gs-08xx-12-13-at-naval-facilities-engineering-systems-command-navfac-4144414323?position=9&pageNum=32&refId=evWCedQkFWi0QY220kymJg%3D%3D&trackingId=kW%2F44tP6DdzpA88PsQEsvQ%3D%3D',\n",
       " 'https://www.linkedin.com/jobs/view/senior-software-engineer-at-peraton-4147214085?position=10&pageNum=32&refId=evWCedQkFWi0QY220kymJg%3D%3D&trackingId=7aUBFwNkQrpCkhKiPmJKVg%3D%3D',\n",
       " 'https://www.linkedin.com/jobs/view/geotechnical-field-engineer-at-terracon-4144378551?position=1&pageNum=35&refId=fc82yiFad9jQfJ3N1SH0ww%3D%3D&trackingId=JdxO%2FBFL23zwOiS99zMv9w%3D%3D',\n",
       " 'https://www.linkedin.com/jobs/view/senior-level-geoint-systems-engineer-at-peraton-4118145208?position=2&pageNum=35&refId=fc82yiFad9jQfJ3N1SH0ww%3D%3D&trackingId=qyOI4ua44UbWy5wLTL30cQ%3D%3D',\n",
       " 'https://www.linkedin.com/jobs/view/field-engineer-building-enclosure-consultant-at-terracon-4143624788?position=3&pageNum=35&refId=fc82yiFad9jQfJ3N1SH0ww%3D%3D&trackingId=E1lLZZAz6E4CvwciQC7aZg%3D%3D',\n",
       " 'https://www.linkedin.com/jobs/view/sap-sap-ixp-intern-software-user-experience-application-via-wayup-at-wayup-4145968945?position=4&pageNum=35&refId=fc82yiFad9jQfJ3N1SH0ww%3D%3D&trackingId=swD6l2dds%2B%2Bmx5XxqeiBCg%3D%3D']"
      ]
     },
     "execution_count": 31,
     "metadata": {},
     "output_type": "execute_result"
    }
   ],
   "source": [
    "linkList"
   ]
  },
  {
   "cell_type": "code",
   "execution_count": 32,
   "id": "c3624fee",
   "metadata": {},
   "outputs": [],
   "source": [
    "remainingLinks = []\n",
    "indexList = []\n",
    "\n",
    "for k in range(n):\n",
    "    try:\n",
    "        link_element = driver.find_elements(By.CLASS_NAME, \"base-card--link\")[k].get_attribute('href')\n",
    "        if link_element is not None:\n",
    "            indexList.append(k)\n",
    "            remainingLinks.append(link_element)\n",
    "    except IndexError:\n",
    "        pass"
   ]
  },
  {
   "cell_type": "code",
   "execution_count": 33,
   "id": "6d3a12dc",
   "metadata": {},
   "outputs": [],
   "source": [
    "for i in indexList:\n",
    "    linkList.insert(i, remainingLinks[0])\n",
    "    remainingLinks.pop(0)"
   ]
  },
  {
   "cell_type": "code",
   "execution_count": 34,
   "id": "d4507a5a",
   "metadata": {},
   "outputs": [
    {
     "data": {
      "text/plain": [
       "[]"
      ]
     },
     "execution_count": 34,
     "metadata": {},
     "output_type": "execute_result"
    }
   ],
   "source": [
    "indexList"
   ]
  },
  {
   "cell_type": "code",
   "execution_count": 35,
   "id": "c9c81656",
   "metadata": {},
   "outputs": [],
   "source": [
    "datePosted = []"
   ]
  },
  {
   "cell_type": "code",
   "execution_count": 36,
   "id": "2a7793cd",
   "metadata": {},
   "outputs": [],
   "source": [
    "for m in range(n):\n",
    "    try:\n",
    "        time_element = driver.find_elements(By.CSS_SELECTOR, \".job-search-card__listdate, .job-search-card__listdate--new\")[m].get_attribute('datetime')\n",
    "        datePosted.append(time_element)\n",
    "    except IndexError:\n",
    "        pass"
   ]
  },
  {
   "cell_type": "code",
   "execution_count": 37,
   "id": "bd9b538c",
   "metadata": {},
   "outputs": [
    {
     "data": {
      "text/plain": [
       "193"
      ]
     },
     "execution_count": 37,
     "metadata": {},
     "output_type": "execute_result"
    }
   ],
   "source": [
    "len(datePosted)"
   ]
  },
  {
   "cell_type": "code",
   "execution_count": 38,
   "id": "22982fcf",
   "metadata": {},
   "outputs": [],
   "source": [
    "companyData = pd.DataFrame(companyName, columns=[\"Company\"])\n",
    "titleData = pd.DataFrame(titleName, columns=[\"Title\"])\n",
    "linkData = pd.DataFrame(linkList, columns=[\"Links\"])\n",
    "dateData = pd.DataFrame(datePosted, columns=[\"Date Posted\"])"
   ]
  },
  {
   "cell_type": "code",
   "execution_count": 39,
   "id": "c7b25875",
   "metadata": {},
   "outputs": [
    {
     "data": {
      "text/html": [
       "<div>\n",
       "<style scoped>\n",
       "    .dataframe tbody tr th:only-of-type {\n",
       "        vertical-align: middle;\n",
       "    }\n",
       "\n",
       "    .dataframe tbody tr th {\n",
       "        vertical-align: top;\n",
       "    }\n",
       "\n",
       "    .dataframe thead th {\n",
       "        text-align: right;\n",
       "    }\n",
       "</style>\n",
       "<table border=\"1\" class=\"dataframe\">\n",
       "  <thead>\n",
       "    <tr style=\"text-align: right;\">\n",
       "      <th></th>\n",
       "      <th>Company</th>\n",
       "    </tr>\n",
       "  </thead>\n",
       "  <tbody>\n",
       "    <tr>\n",
       "      <th>0</th>\n",
       "      <td>Carnegie Mellon University</td>\n",
       "    </tr>\n",
       "    <tr>\n",
       "      <th>1</th>\n",
       "      <td>Lam Research</td>\n",
       "    </tr>\n",
       "    <tr>\n",
       "      <th>2</th>\n",
       "      <td>PING</td>\n",
       "    </tr>\n",
       "    <tr>\n",
       "      <th>3</th>\n",
       "      <td>Siemens EDA (Siemens Digital Industries Software)</td>\n",
       "    </tr>\n",
       "    <tr>\n",
       "      <th>4</th>\n",
       "      <td>Roche</td>\n",
       "    </tr>\n",
       "    <tr>\n",
       "      <th>...</th>\n",
       "      <td>...</td>\n",
       "    </tr>\n",
       "    <tr>\n",
       "      <th>188</th>\n",
       "      <td>Peraton</td>\n",
       "    </tr>\n",
       "    <tr>\n",
       "      <th>189</th>\n",
       "      <td>Terracon</td>\n",
       "    </tr>\n",
       "    <tr>\n",
       "      <th>190</th>\n",
       "      <td>Peraton</td>\n",
       "    </tr>\n",
       "    <tr>\n",
       "      <th>191</th>\n",
       "      <td>Terracon</td>\n",
       "    </tr>\n",
       "    <tr>\n",
       "      <th>192</th>\n",
       "      <td>WayUp</td>\n",
       "    </tr>\n",
       "  </tbody>\n",
       "</table>\n",
       "<p>193 rows × 1 columns</p>\n",
       "</div>"
      ],
      "text/plain": [
       "                                               Company\n",
       "0                           Carnegie Mellon University\n",
       "1                                         Lam Research\n",
       "2                                                 PING\n",
       "3    Siemens EDA (Siemens Digital Industries Software)\n",
       "4                                                Roche\n",
       "..                                                 ...\n",
       "188                                            Peraton\n",
       "189                                           Terracon\n",
       "190                                            Peraton\n",
       "191                                           Terracon\n",
       "192                                              WayUp\n",
       "\n",
       "[193 rows x 1 columns]"
      ]
     },
     "execution_count": 39,
     "metadata": {},
     "output_type": "execute_result"
    }
   ],
   "source": [
    "companyData"
   ]
  },
  {
   "cell_type": "code",
   "execution_count": 40,
   "id": "d6390c55",
   "metadata": {},
   "outputs": [
    {
     "data": {
      "text/html": [
       "<div>\n",
       "<style scoped>\n",
       "    .dataframe tbody tr th:only-of-type {\n",
       "        vertical-align: middle;\n",
       "    }\n",
       "\n",
       "    .dataframe tbody tr th {\n",
       "        vertical-align: top;\n",
       "    }\n",
       "\n",
       "    .dataframe thead th {\n",
       "        text-align: right;\n",
       "    }\n",
       "</style>\n",
       "<table border=\"1\" class=\"dataframe\">\n",
       "  <thead>\n",
       "    <tr style=\"text-align: right;\">\n",
       "      <th></th>\n",
       "      <th>Title</th>\n",
       "    </tr>\n",
       "  </thead>\n",
       "  <tbody>\n",
       "    <tr>\n",
       "      <th>0</th>\n",
       "      <td>Software Engineering Intern - NREC</td>\n",
       "    </tr>\n",
       "    <tr>\n",
       "      <th>1</th>\n",
       "      <td>Computational Science Software Engineering Int...</td>\n",
       "    </tr>\n",
       "    <tr>\n",
       "      <th>2</th>\n",
       "      <td>Software Engineering/Business Analyst Intern</td>\n",
       "    </tr>\n",
       "    <tr>\n",
       "      <th>3</th>\n",
       "      <td>Strategic Student Program: Software Developmen...</td>\n",
       "    </tr>\n",
       "    <tr>\n",
       "      <th>4</th>\n",
       "      <td>2025 Summer Intern - System Engineer/Sequencin...</td>\n",
       "    </tr>\n",
       "    <tr>\n",
       "      <th>...</th>\n",
       "      <td>...</td>\n",
       "    </tr>\n",
       "    <tr>\n",
       "      <th>188</th>\n",
       "      <td>Senior Software Engineer</td>\n",
       "    </tr>\n",
       "    <tr>\n",
       "      <th>189</th>\n",
       "      <td>Geotechnical Field Engineer</td>\n",
       "    </tr>\n",
       "    <tr>\n",
       "      <th>190</th>\n",
       "      <td>Senior-Level GEOINT Systems Engineer</td>\n",
       "    </tr>\n",
       "    <tr>\n",
       "      <th>191</th>\n",
       "      <td>Field Engineer/Building Enclosure Consultant</td>\n",
       "    </tr>\n",
       "    <tr>\n",
       "      <th>192</th>\n",
       "      <td>SAP, SAP iXp Intern -Software-User Experience ...</td>\n",
       "    </tr>\n",
       "  </tbody>\n",
       "</table>\n",
       "<p>193 rows × 1 columns</p>\n",
       "</div>"
      ],
      "text/plain": [
       "                                                 Title\n",
       "0                   Software Engineering Intern - NREC\n",
       "1    Computational Science Software Engineering Int...\n",
       "2         Software Engineering/Business Analyst Intern\n",
       "3    Strategic Student Program: Software Developmen...\n",
       "4    2025 Summer Intern - System Engineer/Sequencin...\n",
       "..                                                 ...\n",
       "188                           Senior Software Engineer\n",
       "189                        Geotechnical Field Engineer\n",
       "190               Senior-Level GEOINT Systems Engineer\n",
       "191       Field Engineer/Building Enclosure Consultant\n",
       "192  SAP, SAP iXp Intern -Software-User Experience ...\n",
       "\n",
       "[193 rows x 1 columns]"
      ]
     },
     "execution_count": 40,
     "metadata": {},
     "output_type": "execute_result"
    }
   ],
   "source": [
    "titleData"
   ]
  },
  {
   "cell_type": "code",
   "execution_count": 41,
   "id": "521e4ec3",
   "metadata": {},
   "outputs": [
    {
     "data": {
      "text/html": [
       "<div>\n",
       "<style scoped>\n",
       "    .dataframe tbody tr th:only-of-type {\n",
       "        vertical-align: middle;\n",
       "    }\n",
       "\n",
       "    .dataframe tbody tr th {\n",
       "        vertical-align: top;\n",
       "    }\n",
       "\n",
       "    .dataframe thead th {\n",
       "        text-align: right;\n",
       "    }\n",
       "</style>\n",
       "<table border=\"1\" class=\"dataframe\">\n",
       "  <thead>\n",
       "    <tr style=\"text-align: right;\">\n",
       "      <th></th>\n",
       "      <th>Links</th>\n",
       "    </tr>\n",
       "  </thead>\n",
       "  <tbody>\n",
       "    <tr>\n",
       "      <th>0</th>\n",
       "      <td>https://www.linkedin.com/jobs/view/software-en...</td>\n",
       "    </tr>\n",
       "    <tr>\n",
       "      <th>1</th>\n",
       "      <td>https://www.linkedin.com/jobs/view/computation...</td>\n",
       "    </tr>\n",
       "    <tr>\n",
       "      <th>2</th>\n",
       "      <td>https://www.linkedin.com/jobs/view/software-en...</td>\n",
       "    </tr>\n",
       "    <tr>\n",
       "      <th>3</th>\n",
       "      <td>https://www.linkedin.com/jobs/view/strategic-s...</td>\n",
       "    </tr>\n",
       "    <tr>\n",
       "      <th>4</th>\n",
       "      <td>https://www.linkedin.com/jobs/view/2025-summer...</td>\n",
       "    </tr>\n",
       "    <tr>\n",
       "      <th>...</th>\n",
       "      <td>...</td>\n",
       "    </tr>\n",
       "    <tr>\n",
       "      <th>188</th>\n",
       "      <td>https://www.linkedin.com/jobs/view/senior-soft...</td>\n",
       "    </tr>\n",
       "    <tr>\n",
       "      <th>189</th>\n",
       "      <td>https://www.linkedin.com/jobs/view/geotechnica...</td>\n",
       "    </tr>\n",
       "    <tr>\n",
       "      <th>190</th>\n",
       "      <td>https://www.linkedin.com/jobs/view/senior-leve...</td>\n",
       "    </tr>\n",
       "    <tr>\n",
       "      <th>191</th>\n",
       "      <td>https://www.linkedin.com/jobs/view/field-engin...</td>\n",
       "    </tr>\n",
       "    <tr>\n",
       "      <th>192</th>\n",
       "      <td>https://www.linkedin.com/jobs/view/sap-sap-ixp...</td>\n",
       "    </tr>\n",
       "  </tbody>\n",
       "</table>\n",
       "<p>193 rows × 1 columns</p>\n",
       "</div>"
      ],
      "text/plain": [
       "                                                 Links\n",
       "0    https://www.linkedin.com/jobs/view/software-en...\n",
       "1    https://www.linkedin.com/jobs/view/computation...\n",
       "2    https://www.linkedin.com/jobs/view/software-en...\n",
       "3    https://www.linkedin.com/jobs/view/strategic-s...\n",
       "4    https://www.linkedin.com/jobs/view/2025-summer...\n",
       "..                                                 ...\n",
       "188  https://www.linkedin.com/jobs/view/senior-soft...\n",
       "189  https://www.linkedin.com/jobs/view/geotechnica...\n",
       "190  https://www.linkedin.com/jobs/view/senior-leve...\n",
       "191  https://www.linkedin.com/jobs/view/field-engin...\n",
       "192  https://www.linkedin.com/jobs/view/sap-sap-ixp...\n",
       "\n",
       "[193 rows x 1 columns]"
      ]
     },
     "execution_count": 41,
     "metadata": {},
     "output_type": "execute_result"
    }
   ],
   "source": [
    "linkData"
   ]
  },
  {
   "cell_type": "code",
   "execution_count": 42,
   "id": "4c365e7e",
   "metadata": {},
   "outputs": [],
   "source": [
    "jobData = pd.DataFrame()\n",
    "jobData = pd.concat([companyData, titleData, dateData, linkData], axis=1)\n",
    "numColumns = (jobData.shape[1]*2)-1\n",
    "\n",
    "for i in range(1, numColumns, 2):\n",
    "    jobData.insert(i, f'Empty_{i}', '')\n",
    "    \n",
    "jobData.index = jobData.index+1"
   ]
  },
  {
   "cell_type": "code",
   "execution_count": null,
   "id": "d0b9d7d2",
   "metadata": {},
   "outputs": [
    {
     "data": {
      "text/html": [
       "<div>\n",
       "<style scoped>\n",
       "    .dataframe tbody tr th:only-of-type {\n",
       "        vertical-align: middle;\n",
       "    }\n",
       "\n",
       "    .dataframe tbody tr th {\n",
       "        vertical-align: top;\n",
       "    }\n",
       "\n",
       "    .dataframe thead th {\n",
       "        text-align: right;\n",
       "    }\n",
       "</style>\n",
       "<table border=\"1\" class=\"dataframe\">\n",
       "  <thead>\n",
       "    <tr style=\"text-align: right;\">\n",
       "      <th></th>\n",
       "      <th>Company</th>\n",
       "      <th>Empty_1</th>\n",
       "      <th>Title</th>\n",
       "      <th>Empty_3</th>\n",
       "      <th>Date Posted</th>\n",
       "      <th>Empty_5</th>\n",
       "      <th>Links</th>\n",
       "    </tr>\n",
       "  </thead>\n",
       "  <tbody>\n",
       "    <tr>\n",
       "      <th>1</th>\n",
       "      <td>Carnegie Mellon University</td>\n",
       "      <td></td>\n",
       "      <td>Software Engineering Intern - NREC</td>\n",
       "      <td></td>\n",
       "      <td>2025-02-05</td>\n",
       "      <td></td>\n",
       "      <td>https://www.linkedin.com/jobs/view/software-en...</td>\n",
       "    </tr>\n",
       "    <tr>\n",
       "      <th>2</th>\n",
       "      <td>Lam Research</td>\n",
       "      <td></td>\n",
       "      <td>Computational Science Software Engineering Int...</td>\n",
       "      <td></td>\n",
       "      <td>2025-02-05</td>\n",
       "      <td></td>\n",
       "      <td>https://www.linkedin.com/jobs/view/computation...</td>\n",
       "    </tr>\n",
       "    <tr>\n",
       "      <th>3</th>\n",
       "      <td>PING</td>\n",
       "      <td></td>\n",
       "      <td>Software Engineering/Business Analyst Intern</td>\n",
       "      <td></td>\n",
       "      <td>2025-02-06</td>\n",
       "      <td></td>\n",
       "      <td>https://www.linkedin.com/jobs/view/software-en...</td>\n",
       "    </tr>\n",
       "    <tr>\n",
       "      <th>4</th>\n",
       "      <td>Siemens EDA (Siemens Digital Industries Software)</td>\n",
       "      <td></td>\n",
       "      <td>Strategic Student Program: Software Developmen...</td>\n",
       "      <td></td>\n",
       "      <td>2025-02-05</td>\n",
       "      <td></td>\n",
       "      <td>https://www.linkedin.com/jobs/view/strategic-s...</td>\n",
       "    </tr>\n",
       "    <tr>\n",
       "      <th>5</th>\n",
       "      <td>Roche</td>\n",
       "      <td></td>\n",
       "      <td>2025 Summer Intern - System Engineer/Sequencin...</td>\n",
       "      <td></td>\n",
       "      <td>2025-02-05</td>\n",
       "      <td></td>\n",
       "      <td>https://www.linkedin.com/jobs/view/2025-summer...</td>\n",
       "    </tr>\n",
       "    <tr>\n",
       "      <th>...</th>\n",
       "      <td>...</td>\n",
       "      <td>...</td>\n",
       "      <td>...</td>\n",
       "      <td>...</td>\n",
       "      <td>...</td>\n",
       "      <td>...</td>\n",
       "      <td>...</td>\n",
       "    </tr>\n",
       "    <tr>\n",
       "      <th>189</th>\n",
       "      <td>Peraton</td>\n",
       "      <td></td>\n",
       "      <td>Senior Software Engineer</td>\n",
       "      <td></td>\n",
       "      <td>2025-02-07</td>\n",
       "      <td></td>\n",
       "      <td>https://www.linkedin.com/jobs/view/senior-soft...</td>\n",
       "    </tr>\n",
       "    <tr>\n",
       "      <th>190</th>\n",
       "      <td>Terracon</td>\n",
       "      <td></td>\n",
       "      <td>Geotechnical Field Engineer</td>\n",
       "      <td></td>\n",
       "      <td>2025-02-07</td>\n",
       "      <td></td>\n",
       "      <td>https://www.linkedin.com/jobs/view/geotechnica...</td>\n",
       "    </tr>\n",
       "    <tr>\n",
       "      <th>191</th>\n",
       "      <td>Peraton</td>\n",
       "      <td></td>\n",
       "      <td>Senior-Level GEOINT Systems Engineer</td>\n",
       "      <td></td>\n",
       "      <td>2025-02-09</td>\n",
       "      <td></td>\n",
       "      <td>https://www.linkedin.com/jobs/view/senior-leve...</td>\n",
       "    </tr>\n",
       "    <tr>\n",
       "      <th>192</th>\n",
       "      <td>Terracon</td>\n",
       "      <td></td>\n",
       "      <td>Field Engineer/Building Enclosure Consultant</td>\n",
       "      <td></td>\n",
       "      <td>2025-02-05</td>\n",
       "      <td></td>\n",
       "      <td>https://www.linkedin.com/jobs/view/field-engin...</td>\n",
       "    </tr>\n",
       "    <tr>\n",
       "      <th>193</th>\n",
       "      <td>WayUp</td>\n",
       "      <td></td>\n",
       "      <td>SAP, SAP iXp Intern -Software-User Experience ...</td>\n",
       "      <td></td>\n",
       "      <td>2025-02-07</td>\n",
       "      <td></td>\n",
       "      <td>https://www.linkedin.com/jobs/view/sap-sap-ixp...</td>\n",
       "    </tr>\n",
       "  </tbody>\n",
       "</table>\n",
       "<p>193 rows × 7 columns</p>\n",
       "</div>"
      ],
      "text/plain": [
       "                                               Company Empty_1  \\\n",
       "1                           Carnegie Mellon University           \n",
       "2                                         Lam Research           \n",
       "3                                                 PING           \n",
       "4    Siemens EDA (Siemens Digital Industries Software)           \n",
       "5                                                Roche           \n",
       "..                                                 ...     ...   \n",
       "189                                            Peraton           \n",
       "190                                           Terracon           \n",
       "191                                            Peraton           \n",
       "192                                           Terracon           \n",
       "193                                              WayUp           \n",
       "\n",
       "                                                 Title Empty_3 Date Posted  \\\n",
       "1                   Software Engineering Intern - NREC          2025-02-05   \n",
       "2    Computational Science Software Engineering Int...          2025-02-05   \n",
       "3         Software Engineering/Business Analyst Intern          2025-02-06   \n",
       "4    Strategic Student Program: Software Developmen...          2025-02-05   \n",
       "5    2025 Summer Intern - System Engineer/Sequencin...          2025-02-05   \n",
       "..                                                 ...     ...         ...   \n",
       "189                           Senior Software Engineer          2025-02-07   \n",
       "190                        Geotechnical Field Engineer          2025-02-07   \n",
       "191               Senior-Level GEOINT Systems Engineer          2025-02-09   \n",
       "192       Field Engineer/Building Enclosure Consultant          2025-02-05   \n",
       "193  SAP, SAP iXp Intern -Software-User Experience ...          2025-02-07   \n",
       "\n",
       "    Empty_5                                              Links  \n",
       "1            https://www.linkedin.com/jobs/view/software-en...  \n",
       "2            https://www.linkedin.com/jobs/view/computation...  \n",
       "3            https://www.linkedin.com/jobs/view/software-en...  \n",
       "4            https://www.linkedin.com/jobs/view/strategic-s...  \n",
       "5            https://www.linkedin.com/jobs/view/2025-summer...  \n",
       "..      ...                                                ...  \n",
       "189          https://www.linkedin.com/jobs/view/senior-soft...  \n",
       "190          https://www.linkedin.com/jobs/view/geotechnica...  \n",
       "191          https://www.linkedin.com/jobs/view/senior-leve...  \n",
       "192          https://www.linkedin.com/jobs/view/field-engin...  \n",
       "193          https://www.linkedin.com/jobs/view/sap-sap-ixp...  \n",
       "\n",
       "[193 rows x 7 columns]"
      ]
     },
     "execution_count": 46,
     "metadata": {},
     "output_type": "execute_result"
    }
   ],
   "source": [
    "jobData"
   ]
  },
  {
   "cell_type": "code",
   "execution_count": 44,
   "id": "cf84dff8",
   "metadata": {},
   "outputs": [],
   "source": [
    "jobData.to_csv(\"LinkedIn_SWE_Intern_Jobs.csv\")"
   ]
  },
  {
   "cell_type": "code",
   "execution_count": 45,
   "id": "db415de2",
   "metadata": {},
   "outputs": [],
   "source": [
    "driver.quit()"
   ]
  },
  {
   "cell_type": "code",
   "execution_count": null,
   "id": "480481ac",
   "metadata": {},
   "outputs": [],
   "source": []
  }
 ],
 "metadata": {
  "kernelspec": {
   "display_name": "Python 3",
   "language": "python",
   "name": "python3"
  },
  "language_info": {
   "codemirror_mode": {
    "name": "ipython",
    "version": 3
   },
   "file_extension": ".py",
   "mimetype": "text/x-python",
   "name": "python",
   "nbconvert_exporter": "python",
   "pygments_lexer": "ipython3",
   "version": "3.12.1"
  }
 },
 "nbformat": 4,
 "nbformat_minor": 5
}

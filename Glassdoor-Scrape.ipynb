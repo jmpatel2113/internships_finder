{
 "cells": [
  {
   "cell_type": "code",
   "execution_count": 1,
   "id": "f53fc3a7",
   "metadata": {},
   "outputs": [],
   "source": [
    "from selenium import webdriver\n",
    "import time\n",
    "import os\n",
    "import pandas as pd\n",
    "import random\n",
    "\n",
    "from selenium.webdriver.support.select import Select\n",
    "from selenium.webdriver.support.ui import WebDriverWait\n",
    "from selenium.webdriver.common.by import By\n",
    "from selenium.webdriver.support import expected_conditions as EC\n",
    "from selenium.webdriver.chrome.service import Service\n",
    "from selenium.common.exceptions import NoSuchElementException, TimeoutException\n",
    "from selenium.common.exceptions import NoAlertPresentException\n",
    "from selenium.webdriver.common.action_chains import ActionChains"
   ]
  },
  {
   "cell_type": "code",
   "execution_count": 2,
   "id": "22cace3d",
   "metadata": {},
   "outputs": [],
   "source": [
    "url4 = \"https://www.glassdoor.com/Job/united-states-software-engineer-intern-jobs-SRCH_IL.0,13_IN1_KO14,38.htm\""
   ]
  },
  {
   "cell_type": "code",
   "execution_count": 7,
   "id": "4a04f7c1",
   "metadata": {},
   "outputs": [],
   "source": [
    "service = Service(r'C:\\Users\\jmpat\\OneDrive\\Desktop\\chromedriver.exe')\n",
    "driver = webdriver.Chrome(service=service)\n",
    "driver.get(url4)\n",
    "driver.implicitly_wait(10)"
   ]
  },
  {
   "cell_type": "code",
   "execution_count": 15,
   "id": "21354544",
   "metadata": {},
   "outputs": [],
   "source": [
    "closeButton = True\n",
    "\n",
    "while True:\n",
    "    driver.execute_script(\"window.scrollTo(0, document.body.scrollHeight);\")\n",
    "    \n",
    "    try:\n",
    "        load_more_button = WebDriverWait(driver, 5).until(\n",
    "            EC.element_to_be_clickable((By.XPATH, \"//button[@data-test='load-more']\"))\n",
    "        )\n",
    "        driver.execute_script(\"arguments[0].click();\", load_more_button)\n",
    "        print(load_more_button.text)\n",
    "        time.sleep(random.randint(3, 6))\n",
    "#         if(closeButton):\n",
    "#             try:\n",
    "#                 close_button = WebDriverWait(driver, 5).until(\n",
    "#                     EC.element_to_be_clickable((By.CLASS_NAME, \"CloseButton\"))\n",
    "#                 )\n",
    "#                 close_button.click()\n",
    "#                 closeButton = False\n",
    "#                 time.sleep(random.randint(2, 4))\n",
    "#             except NoSuchElementException:\n",
    "#                 pass\n",
    "#                 time.sleep(random.randint(2, 5))\n",
    "            \n",
    "    except (NoSuchElementException, TimeoutException):\n",
    "        time.sleep(random.randint(2, 5))\n",
    "        break"
   ]
  },
  {
   "cell_type": "code",
   "execution_count": 20,
   "id": "aed6f988",
   "metadata": {},
   "outputs": [],
   "source": [
    "jobs = driver.find_elements(By.CSS_SELECTOR, '[data-test=\"jobListing\"]')"
   ]
  },
  {
   "cell_type": "code",
   "execution_count": 21,
   "id": "5d425bce",
   "metadata": {},
   "outputs": [],
   "source": [
    "companyNames = []\n",
    "jobTitle = []\n",
    "jobLocation = []\n",
    "datePosted = []\n",
    "jobLink = []"
   ]
  },
  {
   "cell_type": "code",
   "execution_count": 22,
   "id": "d87de744",
   "metadata": {},
   "outputs": [],
   "source": [
    "for job in jobs:\n",
    "    companyNames.append(job.find_element(By.CLASS_NAME, 'EmployerProfile_employerNameContainer__ptolz').text)\n",
    "    jobTitle.append(job.find_element(By.CSS_SELECTOR, '[data-test=\"job-title\"]').text)\n",
    "    jobLocation.append(job.find_element(By.CSS_SELECTOR, '[data-test=\"emp-location\"]').text)\n",
    "    datePosted.append(job.find_element(By.CSS_SELECTOR, '[data-test=\"job-age\"]').text)\n",
    "    jobLink.append(job.find_element(By.CSS_SELECTOR, '[data-test=\"job-title\"]').get_attribute('href'))"
   ]
  },
  {
   "cell_type": "code",
   "execution_count": 31,
   "id": "cfe1e5ed",
   "metadata": {},
   "outputs": [
    {
     "data": {
      "text/plain": [
       "663"
      ]
     },
     "execution_count": 31,
     "metadata": {},
     "output_type": "execute_result"
    }
   ],
   "source": [
    "len(jobLink)"
   ]
  },
  {
   "cell_type": "code",
   "execution_count": 32,
   "id": "dfa9d1c2",
   "metadata": {},
   "outputs": [],
   "source": [
    "companyData = pd.DataFrame(companyNames, columns=[\"Company\"])\n",
    "titleData = pd.DataFrame(jobTitle, columns=[\"Title\"])\n",
    "locationData = pd.DataFrame(jobLocation, columns=[\"Location\"])\n",
    "linkData = pd.DataFrame(jobLink, columns=[\"Links\"])\n",
    "dateData = pd.DataFrame(datePosted, columns=[\"Date Posted\"])"
   ]
  },
  {
   "cell_type": "code",
   "execution_count": 33,
   "id": "513d7dc5",
   "metadata": {},
   "outputs": [],
   "source": [
    "jobData = pd.DataFrame()\n",
    "jobData = pd.concat([companyData, titleData, locationData, dateData, linkData], axis=1)\n",
    "numColumns = (jobData.shape[1]*2)-1\n",
    "\n",
    "for i in range(1, numColumns, 2):\n",
    "    jobData.insert(i, f'Empty_{i}', '')\n",
    "    \n",
    "jobData.index = jobData.index+1"
   ]
  },
  {
   "cell_type": "code",
   "execution_count": 119,
   "id": "1f0cd7f9",
   "metadata": {},
   "outputs": [],
   "source": [
    "jobData.to_csv(\"Glassdoor_SWE_Intern_Jobs.csv\")"
   ]
  },
  {
   "cell_type": "code",
   "execution_count": 34,
   "id": "8c7987d9",
   "metadata": {},
   "outputs": [],
   "source": [
    "driver.quit()"
   ]
  },
  {
   "cell_type": "code",
   "execution_count": null,
   "id": "24dbaaca",
   "metadata": {},
   "outputs": [],
   "source": []
  }
 ],
 "metadata": {
  "kernelspec": {
   "display_name": "Python 3 (ipykernel)",
   "language": "python",
   "name": "python3"
  },
  "language_info": {
   "codemirror_mode": {
    "name": "ipython",
    "version": 3
   },
   "file_extension": ".py",
   "mimetype": "text/x-python",
   "name": "python",
   "nbconvert_exporter": "python",
   "pygments_lexer": "ipython3",
   "version": "3.11.4"
  }
 },
 "nbformat": 4,
 "nbformat_minor": 5
}

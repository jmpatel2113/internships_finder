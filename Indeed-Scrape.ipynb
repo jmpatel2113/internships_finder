{
 "cells": [
  {
   "cell_type": "code",
   "execution_count": null,
   "id": "ee399c70",
   "metadata": {},
   "outputs": [],
   "source": [
    "# imports libraries and dependencies\n",
    "from selenium import webdriver\n",
    "import time\n",
    "import os\n",
    "import pandas as pd\n",
    "import random\n",
    "from dotenv import load_dotenv\n",
    "\n",
    "from selenium.webdriver.support.select import Select\n",
    "from selenium.webdriver.support.ui import WebDriverWait\n",
    "from selenium.webdriver.common.by import By\n",
    "from selenium.webdriver.support import expected_conditions as EC\n",
    "from selenium.webdriver.chrome.service import Service\n",
    "from selenium.common.exceptions import NoSuchElementException, TimeoutException"
   ]
  },
  {
   "cell_type": "code",
   "execution_count": null,
   "id": "c6625759",
   "metadata": {},
   "outputs": [],
   "source": [
    "# url used to get the internship postings which is already filtered\n",
    "url2 = \"https://www.indeed.com/jobs?q=software+engineer+intern&l=United+States\""
   ]
  },
  {
   "cell_type": "code",
   "execution_count": 46,
   "id": "80f8c994",
   "metadata": {},
   "outputs": [],
   "source": [
    "# sets up the chrome driver and opens the webpage\n",
    "load_dotenv()\n",
    "service = Service(os.getenv(\"CHROMEDRIVER_PATH\"))\n",
    "driver = webdriver.Chrome(service=service)\n",
    "driver.get(url2)\n",
    "driver.implicitly_wait(10)"
   ]
  },
  {
   "cell_type": "code",
   "execution_count": null,
   "id": "0009ae32",
   "metadata": {},
   "outputs": [],
   "source": [
    "# data to collect\n",
    "companyNames = []\n",
    "titles = []\n",
    "jobLocations = []\n",
    "links = []"
   ]
  },
  {
   "cell_type": "code",
   "execution_count": null,
   "id": "ccccac81",
   "metadata": {},
   "outputs": [],
   "source": [
    "# extracts the data on each page and navigates all pages that has the postings\n",
    "while True:\n",
    "    try:\n",
    "        jobElements = driver.find_elements(By.CLASS_NAME, \"cardOutline\")\n",
    "        \n",
    "        time.sleep(3)\n",
    "        \n",
    "        for job in jobElements:\n",
    "            companyName = job.find_element(By.CSS_SELECTOR, '[data-testid=\"company-name\"]').text\n",
    "            print(companyName)\n",
    "            companyNames.append(companyName)\n",
    "            title = job.find_element(By.CLASS_NAME, \"jobTitle\").text\n",
    "            titles.append(title)\n",
    "            jobLocation = job.find_element(By.CSS_SELECTOR, '[data-testid=\"text-location\"]').text\n",
    "            jobLocations.append(jobLocation)\n",
    "            link = job.find_element(By.CLASS_NAME, \"jobTitle\").find_element(By.TAG_NAME, 'a').get_attribute('href')\n",
    "            links.append(link)\n",
    "        \n",
    "        nextPage = WebDriverWait(driver, 5).until(\n",
    "            EC.presence_of_element_located((By.XPATH, \"//a[@aria-label='Next Page']\"))\n",
    "        )\n",
    "        print(nextPage)\n",
    "        nextPage.click()\n",
    "        time.sleep(random.randint(3, 6))\n",
    "    \n",
    "    except (NoSuchElementException, TimeoutException):\n",
    "        break\n",
    "    \n",
    "    except Exception as e:\n",
    "        time.sleep(random.randint(2, 5))\n"
   ]
  },
  {
   "cell_type": "code",
   "execution_count": null,
   "id": "97aac04d",
   "metadata": {},
   "outputs": [],
   "source": [
    "# convert data to pandas dataframe\n",
    "companyNameData = pd.DataFrame(companyNames, columns=[\"Company Name\"])\n",
    "titleData = pd.DataFrame(titles, columns=[\"Title\"])\n",
    "jobLocationData = pd.DataFrame(jobLocations, columns=[\"Job Location\"])\n",
    "linkData = pd.DataFrame(links, columns=[\"Links\"])"
   ]
  },
  {
   "cell_type": "code",
   "execution_count": null,
   "id": "7c9afab2",
   "metadata": {},
   "outputs": [],
   "source": [
    "# aggregates/concatenates all the data into one dataframe\n",
    "jobData = pd.DataFrame()\n",
    "jobData = pd.concat([companyNameData, titleData, jobLocationData, linkData], axis=1)\n",
    "numColumns = (jobData.shape[1]*2)-1\n",
    "\n",
    "for i in range(1, numColumns, 2):\n",
    "    jobData.insert(i, f'Empty_{i}', '')\n",
    "    \n",
    "jobData.index = jobData.index+1"
   ]
  },
  {
   "cell_type": "code",
   "execution_count": null,
   "id": "e48f8d64",
   "metadata": {},
   "outputs": [],
   "source": [
    "jobData"
   ]
  },
  {
   "cell_type": "code",
   "execution_count": null,
   "id": "553189c3",
   "metadata": {},
   "outputs": [],
   "source": [
    "# transports data to a csv file\n",
    "jobData.to_csv(\"Indeed_SWE_Intern_Jobs.csv\")"
   ]
  },
  {
   "cell_type": "code",
   "execution_count": null,
   "id": "ad1ad5ba",
   "metadata": {},
   "outputs": [],
   "source": [
    "driver.quit()"
   ]
  },
  {
   "cell_type": "code",
   "execution_count": null,
   "id": "79963d69",
   "metadata": {},
   "outputs": [],
   "source": []
  }
 ],
 "metadata": {
  "kernelspec": {
   "display_name": "Python 3",
   "language": "python",
   "name": "python3"
  },
  "language_info": {
   "codemirror_mode": {
    "name": "ipython",
    "version": 3
   },
   "file_extension": ".py",
   "mimetype": "text/x-python",
   "name": "python",
   "nbconvert_exporter": "python",
   "pygments_lexer": "ipython3",
   "version": "3.12.1"
  }
 },
 "nbformat": 4,
 "nbformat_minor": 5
}

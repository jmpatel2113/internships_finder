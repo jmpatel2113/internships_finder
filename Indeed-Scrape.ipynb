{
 "cells": [
  {
   "cell_type": "code",
   "execution_count": 12,
   "id": "ee399c70",
   "metadata": {},
   "outputs": [],
   "source": [
    "from selenium import webdriver\n",
    "import time\n",
    "import os\n",
    "import pandas as pd\n",
    "import random\n",
    "from dotenv import load_dotenv\n",
    "\n",
    "from selenium.webdriver.support.select import Select\n",
    "from selenium.webdriver.support.ui import WebDriverWait\n",
    "from selenium.webdriver.common.by import By\n",
    "from selenium.webdriver.support import expected_conditions as EC\n",
    "from selenium.webdriver.chrome.service import Service\n",
    "from selenium.common.exceptions import NoSuchElementException, TimeoutException"
   ]
  },
  {
   "cell_type": "code",
   "execution_count": 13,
   "id": "c6625759",
   "metadata": {},
   "outputs": [],
   "source": [
    "url2 = \"https://www.indeed.com/jobs?q=software+engineer+intern&l=United+States\""
   ]
  },
  {
   "cell_type": "code",
   "execution_count": 14,
   "id": "80f8c994",
   "metadata": {},
   "outputs": [],
   "source": [
    "# sets up the chrome driver and opens the webpage\n",
    "load_dotenv()\n",
    "service = Service(os.getenv(\"CHROMEDRIVER_PATH\"))\n",
    "driver = webdriver.Chrome(service=service)\n",
    "driver.get(url2)\n",
    "driver.implicitly_wait(10)"
   ]
  },
  {
   "cell_type": "code",
   "execution_count": 15,
   "id": "0009ae32",
   "metadata": {},
   "outputs": [],
   "source": [
    "companyNames = []\n",
    "titles = []\n",
    "jobLocations = []\n",
    "links = []\n",
    "datePosted = []"
   ]
  },
  {
   "cell_type": "code",
   "execution_count": 16,
   "id": "ccccac81",
   "metadata": {},
   "outputs": [],
   "source": [
    "while True:\n",
    "    try:\n",
    "        jobElements = driver.find_elements(By.CLASS_NAME, \"cardOutline\")\n",
    "        time.sleep(3)\n",
    "        \n",
    "        for job in jobElements:\n",
    "            companyName = job.find_element(By.CSS_SELECTOR, '[data-testid=\"company-name\"]').text\n",
    "            companyNames.append(companyName)\n",
    "            title = job.find_element(By.CLASS_NAME, \"jobTitle\").text\n",
    "            titles.append(title)\n",
    "            jobLocation = job.find_element(By.CSS_SELECTOR, '[data-testid=\"text-location\"]').text\n",
    "            jobLocations.append(jobLocation)\n",
    "            link = job.find_element(By.CLASS_NAME, \"jobTitle\").find_element(By.TAG_NAME, 'a').get_attribute('href')\n",
    "            links.append(link)\n",
    "            date = job.find_element(By.CSS_SELECTOR, '[data-testid=\"myJobsStateDate\"]').text[6:].strip()\n",
    "            datePosted.append(date)\n",
    "        \n",
    "        nextPage = WebDriverWait(driver, 5).until(\n",
    "            EC.presence_of_element_located((By.XPATH, \"//a[@aria-label='Next Page']\"))\n",
    "        )\n",
    "        \n",
    "        nextPage.click()\n",
    "        time.sleep(random.randint(3, 6))\n",
    "    \n",
    "    except (NoSuchElementException, TimeoutException):\n",
    "        break\n",
    "    \n",
    "    except Exception as e:\n",
    "        time.sleep(random.randint(2, 5))\n"
   ]
  },
  {
   "cell_type": "code",
   "execution_count": 17,
   "id": "97aac04d",
   "metadata": {},
   "outputs": [],
   "source": [
    "companyNameData = pd.DataFrame(companyNames, columns=[\"Company Name\"])\n",
    "titleData = pd.DataFrame(titles, columns=[\"Title\"])\n",
    "jobLocationData = pd.DataFrame(jobLocations, columns=[\"Job Location\"])\n",
    "linkData = pd.DataFrame(links, columns=[\"Links\"])\n",
    "dateData = pd.DataFrame(datePosted, columns=[\"Date Posted\"])"
   ]
  },
  {
   "cell_type": "code",
   "execution_count": 18,
   "id": "7c9afab2",
   "metadata": {},
   "outputs": [],
   "source": [
    "jobData = pd.DataFrame()\n",
    "jobData = pd.concat([companyNameData, titleData, jobLocationData, linkData, dateData], axis=1)\n",
    "numColumns = (jobData.shape[1]*2)-1\n",
    "\n",
    "for i in range(1, numColumns, 2):\n",
    "    jobData.insert(i, f'Empty_{i}', '')\n",
    "    \n",
    "jobData.index = jobData.index+1"
   ]
  },
  {
   "cell_type": "code",
   "execution_count": 19,
   "id": "e48f8d64",
   "metadata": {},
   "outputs": [
    {
     "data": {
      "text/html": [
       "<div>\n",
       "<style scoped>\n",
       "    .dataframe tbody tr th:only-of-type {\n",
       "        vertical-align: middle;\n",
       "    }\n",
       "\n",
       "    .dataframe tbody tr th {\n",
       "        vertical-align: top;\n",
       "    }\n",
       "\n",
       "    .dataframe thead th {\n",
       "        text-align: right;\n",
       "    }\n",
       "</style>\n",
       "<table border=\"1\" class=\"dataframe\">\n",
       "  <thead>\n",
       "    <tr style=\"text-align: right;\">\n",
       "      <th></th>\n",
       "      <th>Company Name</th>\n",
       "      <th>Empty_1</th>\n",
       "      <th>Title</th>\n",
       "      <th>Empty_3</th>\n",
       "      <th>Job Location</th>\n",
       "      <th>Empty_5</th>\n",
       "      <th>Links</th>\n",
       "      <th>Empty_7</th>\n",
       "      <th>Date Posted</th>\n",
       "    </tr>\n",
       "  </thead>\n",
       "  <tbody>\n",
       "    <tr>\n",
       "      <th>1</th>\n",
       "      <td>SLPT Global Pump Group</td>\n",
       "      <td></td>\n",
       "      <td>Software Engineer</td>\n",
       "      <td></td>\n",
       "      <td>Warren, MI 48089</td>\n",
       "      <td></td>\n",
       "      <td>https://www.indeed.com/pagead/clk?mo=r&amp;ad=-6NY...</td>\n",
       "      <td></td>\n",
       "      <td>er\\nActive 2 days ago</td>\n",
       "    </tr>\n",
       "    <tr>\n",
       "      <th>2</th>\n",
       "      <td>Kayhan Space</td>\n",
       "      <td></td>\n",
       "      <td>Junior Backend Software Engineer</td>\n",
       "      <td></td>\n",
       "      <td>Broomfield, CO</td>\n",
       "      <td></td>\n",
       "      <td>https://www.indeed.com/rc/clk?jk=bba02e4d51ba1...</td>\n",
       "      <td></td>\n",
       "      <td>NaN</td>\n",
       "    </tr>\n",
       "  </tbody>\n",
       "</table>\n",
       "</div>"
      ],
      "text/plain": [
       "             Company Name Empty_1                             Title Empty_3  \\\n",
       "1  SLPT Global Pump Group                         Software Engineer           \n",
       "2            Kayhan Space          Junior Backend Software Engineer           \n",
       "\n",
       "       Job Location Empty_5  \\\n",
       "1  Warren, MI 48089           \n",
       "2    Broomfield, CO           \n",
       "\n",
       "                                               Links Empty_7  \\\n",
       "1  https://www.indeed.com/pagead/clk?mo=r&ad=-6NY...           \n",
       "2  https://www.indeed.com/rc/clk?jk=bba02e4d51ba1...           \n",
       "\n",
       "             Date Posted  \n",
       "1  er\\nActive 2 days ago  \n",
       "2                    NaN  "
      ]
     },
     "execution_count": 19,
     "metadata": {},
     "output_type": "execute_result"
    }
   ],
   "source": [
    "jobData"
   ]
  },
  {
   "cell_type": "code",
   "execution_count": 20,
   "id": "f3c526e8",
   "metadata": {},
   "outputs": [
    {
     "data": {
      "text/plain": [
       "2"
      ]
     },
     "execution_count": 20,
     "metadata": {},
     "output_type": "execute_result"
    }
   ],
   "source": [
    "len(jobData)"
   ]
  },
  {
   "cell_type": "code",
   "execution_count": 387,
   "id": "553189c3",
   "metadata": {},
   "outputs": [],
   "source": [
    "jobData.to_csv(\"Indeed_SWE_Intern_Jobs.csv\")"
   ]
  },
  {
   "cell_type": "code",
   "execution_count": 388,
   "id": "ad1ad5ba",
   "metadata": {},
   "outputs": [],
   "source": [
    "driver.quit()"
   ]
  },
  {
   "cell_type": "code",
   "execution_count": null,
   "id": "79963d69",
   "metadata": {},
   "outputs": [],
   "source": []
  }
 ],
 "metadata": {
  "kernelspec": {
   "display_name": "Python 3",
   "language": "python",
   "name": "python3"
  },
  "language_info": {
   "codemirror_mode": {
    "name": "ipython",
    "version": 3
   },
   "file_extension": ".py",
   "mimetype": "text/x-python",
   "name": "python",
   "nbconvert_exporter": "python",
   "pygments_lexer": "ipython3",
   "version": "3.12.1"
  }
 },
 "nbformat": 4,
 "nbformat_minor": 5
}
